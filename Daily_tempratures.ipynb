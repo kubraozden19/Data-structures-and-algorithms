{
 "cells": [
  {
   "cell_type": "code",
   "execution_count": 3,
   "id": "cc59f87f",
   "metadata": {},
   "outputs": [],
   "source": [
    "temperatures = [73,74,75,71,69,72,76,73]"
   ]
  },
  {
   "cell_type": "code",
   "execution_count": 7,
   "id": "267dc72c",
   "metadata": {},
   "outputs": [],
   "source": [
    "def solution():\n",
    "    \n",
    "    result = [0] * len(temperatures) # en başta 0'ları oluştuduğumuz için son karakterlerde ya da daha büyük bir şey yoksa bir şey yapmamıza gerek kalmadan hazır olarak sıfırlar eklenmiş hali bize gelecek\n",
    "    myStack = [] # [temp & ix]\n",
    "    # Bu stackin içine numaraları(temp) koyacağız ama indexleri de koyacağız bunları tuple olarak koyabilirim liste olarak koyabilirim\n",
    "    \n",
    "    for ix, temperature in enumerate(temperatures):\n",
    "        myStack.append([temperature, ix])\n",
    "        \n",
    "    print(myStack)"
   ]
  },
  {
   "cell_type": "code",
   "execution_count": 8,
   "id": "244641e4",
   "metadata": {},
   "outputs": [
    {
     "name": "stdout",
     "output_type": "stream",
     "text": [
      "[[73, 0], [74, 1], [75, 2], [71, 3], [69, 4], [72, 5], [76, 6], [73, 7]]\n"
     ]
    }
   ],
   "source": [
    "solution()"
   ]
  },
  {
   "cell_type": "code",
   "execution_count": 1,
   "id": "83a5929b",
   "metadata": {},
   "outputs": [],
   "source": [
    "def solution():\n",
    "    \n",
    "    result = [0] * len(temperatures) # en başta 0'ları oluştuduğumuz için son karakterlerde ya da daha büyük bir şey yoksa bir şey yapmamıza gerek kalmadan hazır olarak sıfırlar eklenmiş hali bize gelecek\n",
    "    myStack = [] # [temp & ix]\n",
    "    # Bu stackin içine numaraları(temp) koyacağız ama indexleri de koyacağız bunları tuple olarak koyabilirim liste olarak koyabilirim\n",
    "    \n",
    "    for ix, temperature in enumerate(temperatures):\n",
    "        while myStack and temperature > myStack[-1][0] :\n",
    "            stackTemp, stackIndex = myStack.pop()\n",
    "            result[stackIndex] = ix - stackIndex\n",
    "        myStack.append([temperature, ix])\n",
    "        \n",
    "    return result"
   ]
  },
  {
   "cell_type": "code",
   "execution_count": null,
   "id": "bf32427b",
   "metadata": {},
   "outputs": [],
   "source": [
    "While myStack and temperature > myStack[-1][0]\n",
    "\n",
    "[[73, 0], [74, 1], [75, 2], [71, 3], [69, 4], [72, 5], [76, 6], [73, 7]]  bunların hepsini ekledik ama bunların bizim bi işimize\n",
    "yaramıyor şuan mesela 73 ekleyeceğim sonra da 74 geldiğinde bakacağım eğer daha büyükse bunu pop edicem bunu pop edecek [73, 0]\n",
    "sonrasında [74, 1] ekleyecek ve o sırada da resultın içine güncel index ne ise onu alıp farkını eklemem gerekecek \n",
    "stackTemp, stackIndex = myStack.pop() dediğimizde 73 stackTemp a 0 da stackIndex e kaydedilecek \n",
    "eğer güncel indeximden(ix) stackIndex çıkartılırsa 74 ile 73 arasında kaç index olduğunu buluruz işte bunu da resulta ekleyeceğiz\n",
    "yani resultın güncel indeksi neyse ona ekleyeceğiz \n",
    "\n",
    "\n"
   ]
  },
  {
   "cell_type": "code",
   "execution_count": 4,
   "id": "36ddd330",
   "metadata": {},
   "outputs": [
    {
     "data": {
      "text/plain": [
       "[1, 1, 4, 2, 1, 1, 0, 0]"
      ]
     },
     "execution_count": 4,
     "metadata": {},
     "output_type": "execute_result"
    }
   ],
   "source": [
    "solution()"
   ]
  },
  {
   "cell_type": "code",
   "execution_count": null,
   "id": "b1862453",
   "metadata": {},
   "outputs": [],
   "source": []
  }
 ],
 "metadata": {
  "kernelspec": {
   "display_name": "Python 3 (ipykernel)",
   "language": "python",
   "name": "python3"
  },
  "language_info": {
   "codemirror_mode": {
    "name": "ipython",
    "version": 3
   },
   "file_extension": ".py",
   "mimetype": "text/x-python",
   "name": "python",
   "nbconvert_exporter": "python",
   "pygments_lexer": "ipython3",
   "version": "3.11.5"
  }
 },
 "nbformat": 4,
 "nbformat_minor": 5
}
