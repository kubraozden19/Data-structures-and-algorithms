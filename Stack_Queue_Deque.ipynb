{
 "cells": [
  {
   "cell_type": "markdown",
   "id": "d2f61ba2",
   "metadata": {},
   "source": [
    "**Stack, Queue ve Deque** veri yapıları, belirli sıralama ve erişim kurallarına dayalı veri yönetimi sağlar. İşte bu veri yapılarının tanımları, kullanım şekilleri ve aralarındaki farklar:\n",
    "\n",
    "### 1. **Stack (Yığın)**\n",
    "- **Tanım**: Stack, **LIFO (Last In, First Out)** yani \"son giren, ilk çıkar\" prensibine göre çalışan bir veri yapısıdır. Yani, veri yapısına en son eklenen eleman, ilk olarak çıkarılır.\n",
    "- **Kullanım**: Bir yığın üzerinde genellikle iki ana işlem yapılır:\n",
    "  - **Push**: Eleman ekleme.\n",
    "  - **Pop**: Eleman çıkarma.\n",
    "- **Uygulamalar**: Fonksiyon çağrıları, geri alma işlemleri, tarayıcı geri düğmesi gibi uygulamalarda yaygın olarak kullanılır.\n",
    "\n",
    "#### Python'da Stack:\n",
    "```python\n",
    "stack = []\n",
    "stack.append(10)  # Push işlemi\n",
    "stack.append(20)\n",
    "print(stack.pop())  # Pop işlemi (20)\n",
    "```\n",
    "\n",
    "### 2. **Queue (Kuyruk)**\n",
    "- **Tanım**: Queue, **FIFO (First In, First Out)** yani \"ilk giren, ilk çıkar\" prensibine göre çalışan bir veri yapısıdır. İlk eklenen eleman, ilk çıkarılan elemandır.\n",
    "- **Kullanım**: Kuyruk üzerinde genellikle şu işlemler yapılır:\n",
    "  - **Enqueue**: Eleman ekleme.\n",
    "  - **Dequeue**: Eleman çıkarma.\n",
    "- **Uygulamalar**: İşlem sıraları, görev sıralama, yazdırma kuyruğu gibi durumlarda kullanılır.\n",
    "\n",
    "#### Python'da Queue:\n",
    "```python\n",
    "from collections import deque\n",
    "queue = deque()\n",
    "queue.append(10)  # Enqueue işlemi\n",
    "queue.append(20)\n",
    "print(queue.popleft())  # Dequeue işlemi (10)\n",
    "```\n",
    "\n",
    "### 3. **Deque (Double-ended Queue)**\n",
    "- **Tanım**: Deque, hem başından hem de sonundan eleman eklenip çıkarılabilen bir veri yapısıdır. Yani, hem **FIFO** hem de **LIFO** prensiplerine uygun olarak çalışabilir.\n",
    "- **Kullanım**: Deque üzerinde şu işlemler yapılır:\n",
    "  - **append()**: Eleman sona ekler.\n",
    "  - **appendleft()**: Eleman başa ekler.\n",
    "  - **pop()**: Eleman sondan çıkarır.\n",
    "  - **popleft()**: Eleman baştan çıkarır.\n",
    "- **Uygulamalar**: Simülasyonlar, tarayıcı önbellekleri gibi esneklik gerektiren uygulamalarda kullanılır.\n",
    "\n",
    "#### Python'da Deque:\n",
    "```python\n",
    "from collections import deque\n",
    "d = deque()\n",
    "d.append(10)       # Sona ekler\n",
    "d.appendleft(20)   # Başa ekler\n",
    "print(d.pop())     # Sondan çıkarır (10)\n",
    "print(d.popleft()) # Baştan çıkarır (20)\n",
    "```\n",
    "\n",
    "### Farkları:\n",
    "- **Stack vs Queue**: Stack, son giren elemanı ilk çıkarırken, Queue ilk giren elemanı ilk çıkarır.\n",
    "- **Deque**: Stack ve Queue'nun özelliklerini birleştirir, hem baştan hem de sondan işlem yapılabilir. Daha esnektir.\n",
    "\n",
    "Her biri belirli senaryolarda avantaj sağlayan veri yapılarıdır."
   ]
  },
  {
   "cell_type": "code",
   "execution_count": 7,
   "id": "304ae305",
   "metadata": {},
   "outputs": [],
   "source": [
    "myList = []"
   ]
  },
  {
   "cell_type": "code",
   "execution_count": 8,
   "id": "0aa66274",
   "metadata": {},
   "outputs": [],
   "source": [
    "myList.append(1)\n",
    "myList.append(2)"
   ]
  },
  {
   "cell_type": "code",
   "execution_count": 9,
   "id": "c8d4e67f",
   "metadata": {},
   "outputs": [
    {
     "data": {
      "text/plain": [
       "[1, 2]"
      ]
     },
     "execution_count": 9,
     "metadata": {},
     "output_type": "execute_result"
    }
   ],
   "source": [
    "myList"
   ]
  },
  {
   "cell_type": "code",
   "execution_count": 11,
   "id": "55f78c10",
   "metadata": {},
   "outputs": [],
   "source": [
    "myList.append(3)"
   ]
  },
  {
   "cell_type": "code",
   "execution_count": 12,
   "id": "b83beb5b",
   "metadata": {},
   "outputs": [
    {
     "data": {
      "text/plain": [
       "[1, 2, 3]"
      ]
     },
     "execution_count": 12,
     "metadata": {},
     "output_type": "execute_result"
    }
   ],
   "source": [
    "myList"
   ]
  },
  {
   "cell_type": "code",
   "execution_count": 13,
   "id": "6c721bd1",
   "metadata": {},
   "outputs": [
    {
     "data": {
      "text/plain": [
       "3"
      ]
     },
     "execution_count": 13,
     "metadata": {},
     "output_type": "execute_result"
    }
   ],
   "source": [
    "myList.pop()"
   ]
  },
  {
   "cell_type": "code",
   "execution_count": 15,
   "id": "0df3b952",
   "metadata": {},
   "outputs": [
    {
     "data": {
      "text/plain": [
       "[1, 2]"
      ]
     },
     "execution_count": 15,
     "metadata": {},
     "output_type": "execute_result"
    }
   ],
   "source": [
    "myList"
   ]
  },
  {
   "cell_type": "code",
   "execution_count": 16,
   "id": "a1b60896",
   "metadata": {},
   "outputs": [
    {
     "data": {
      "text/plain": [
       "list"
      ]
     },
     "execution_count": 16,
     "metadata": {},
     "output_type": "execute_result"
    }
   ],
   "source": [
    "type(myList)"
   ]
  },
  {
   "cell_type": "code",
   "execution_count": 17,
   "id": "6083b7d1",
   "metadata": {},
   "outputs": [],
   "source": [
    "from queue import LifoQueue"
   ]
  },
  {
   "cell_type": "code",
   "execution_count": 18,
   "id": "da54864e",
   "metadata": {},
   "outputs": [],
   "source": [
    "lifoQueue = LifoQueue()"
   ]
  },
  {
   "cell_type": "code",
   "execution_count": 19,
   "id": "e23b9e8b",
   "metadata": {},
   "outputs": [],
   "source": [
    "lifoQueue.put(1)"
   ]
  },
  {
   "cell_type": "code",
   "execution_count": 20,
   "id": "472659e9",
   "metadata": {},
   "outputs": [],
   "source": [
    "lifoQueue.put(10)"
   ]
  },
  {
   "cell_type": "code",
   "execution_count": 21,
   "id": "d7f6449b",
   "metadata": {},
   "outputs": [],
   "source": [
    "lifoQueue.put(20)"
   ]
  },
  {
   "cell_type": "code",
   "execution_count": 22,
   "id": "9505747f",
   "metadata": {},
   "outputs": [
    {
     "data": {
      "text/plain": [
       "<queue.LifoQueue at 0x1a447954c50>"
      ]
     },
     "execution_count": 22,
     "metadata": {},
     "output_type": "execute_result"
    }
   ],
   "source": [
    "lifoQueue"
   ]
  },
  {
   "cell_type": "code",
   "execution_count": 23,
   "id": "af9be04a",
   "metadata": {},
   "outputs": [
    {
     "data": {
      "text/plain": [
       "20"
      ]
     },
     "execution_count": 23,
     "metadata": {},
     "output_type": "execute_result"
    }
   ],
   "source": [
    "lifoQueue.get()"
   ]
  },
  {
   "cell_type": "code",
   "execution_count": 24,
   "id": "316d4726",
   "metadata": {},
   "outputs": [
    {
     "data": {
      "text/plain": [
       "10"
      ]
     },
     "execution_count": 24,
     "metadata": {},
     "output_type": "execute_result"
    }
   ],
   "source": [
    "lifoQueue.get()"
   ]
  },
  {
   "cell_type": "code",
   "execution_count": 25,
   "id": "d403cde3",
   "metadata": {},
   "outputs": [
    {
     "data": {
      "text/plain": [
       "1"
      ]
     },
     "execution_count": 25,
     "metadata": {},
     "output_type": "execute_result"
    }
   ],
   "source": [
    "lifoQueue.get()"
   ]
  },
  {
   "cell_type": "code",
   "execution_count": 26,
   "id": "c25a02d4",
   "metadata": {},
   "outputs": [],
   "source": [
    "from queue import Queue"
   ]
  },
  {
   "cell_type": "code",
   "execution_count": 27,
   "id": "d4f55efa",
   "metadata": {},
   "outputs": [],
   "source": [
    "myQueue = Queue()"
   ]
  },
  {
   "cell_type": "code",
   "execution_count": 28,
   "id": "0d44e144",
   "metadata": {},
   "outputs": [],
   "source": [
    "myQueue.put(1)"
   ]
  },
  {
   "cell_type": "code",
   "execution_count": 29,
   "id": "57c19cba",
   "metadata": {},
   "outputs": [],
   "source": [
    "myQueue.put(10)"
   ]
  },
  {
   "cell_type": "code",
   "execution_count": 30,
   "id": "5fefb295",
   "metadata": {},
   "outputs": [],
   "source": [
    "myQueue.put(20)"
   ]
  },
  {
   "cell_type": "code",
   "execution_count": 31,
   "id": "6b454614",
   "metadata": {},
   "outputs": [
    {
     "data": {
      "text/plain": [
       "1"
      ]
     },
     "execution_count": 31,
     "metadata": {},
     "output_type": "execute_result"
    }
   ],
   "source": [
    "myQueue.get()  # ilk giren ilk çıkar"
   ]
  },
  {
   "cell_type": "code",
   "execution_count": 33,
   "id": "ae470162",
   "metadata": {},
   "outputs": [
    {
     "data": {
      "text/plain": [
       "10"
      ]
     },
     "execution_count": 33,
     "metadata": {},
     "output_type": "execute_result"
    }
   ],
   "source": [
    "myQueue.get()"
   ]
  },
  {
   "cell_type": "code",
   "execution_count": 34,
   "id": "80f7f8d9",
   "metadata": {},
   "outputs": [],
   "source": [
    "from collections import deque"
   ]
  },
  {
   "cell_type": "code",
   "execution_count": 35,
   "id": "2abaa2fe",
   "metadata": {},
   "outputs": [],
   "source": [
    "myDeque = deque()"
   ]
  },
  {
   "cell_type": "code",
   "execution_count": 36,
   "id": "66e0f7af",
   "metadata": {},
   "outputs": [],
   "source": [
    "myDeque.append(10)"
   ]
  },
  {
   "cell_type": "code",
   "execution_count": 37,
   "id": "3505e723",
   "metadata": {},
   "outputs": [],
   "source": [
    "myDeque.append(20)"
   ]
  },
  {
   "cell_type": "code",
   "execution_count": 38,
   "id": "3d185e9b",
   "metadata": {},
   "outputs": [
    {
     "data": {
      "text/plain": [
       "deque([10, 20])"
      ]
     },
     "execution_count": 38,
     "metadata": {},
     "output_type": "execute_result"
    }
   ],
   "source": [
    "myDeque"
   ]
  },
  {
   "cell_type": "code",
   "execution_count": 39,
   "id": "08c07f2d",
   "metadata": {},
   "outputs": [],
   "source": [
    "myDeque.append(30)"
   ]
  },
  {
   "cell_type": "code",
   "execution_count": 40,
   "id": "d81fd014",
   "metadata": {},
   "outputs": [
    {
     "data": {
      "text/plain": [
       "deque([10, 20, 30])"
      ]
     },
     "execution_count": 40,
     "metadata": {},
     "output_type": "execute_result"
    }
   ],
   "source": [
    "myDeque"
   ]
  },
  {
   "cell_type": "code",
   "execution_count": 41,
   "id": "bb525e30",
   "metadata": {},
   "outputs": [],
   "source": [
    "myDeque.appendleft(40)"
   ]
  },
  {
   "cell_type": "code",
   "execution_count": 42,
   "id": "47521027",
   "metadata": {},
   "outputs": [
    {
     "data": {
      "text/plain": [
       "deque([40, 10, 20, 30])"
      ]
     },
     "execution_count": 42,
     "metadata": {},
     "output_type": "execute_result"
    }
   ],
   "source": [
    "myDeque"
   ]
  },
  {
   "cell_type": "code",
   "execution_count": 43,
   "id": "6347a82d",
   "metadata": {},
   "outputs": [
    {
     "data": {
      "text/plain": [
       "30"
      ]
     },
     "execution_count": 43,
     "metadata": {},
     "output_type": "execute_result"
    }
   ],
   "source": [
    "myDeque.pop()"
   ]
  },
  {
   "cell_type": "code",
   "execution_count": 45,
   "id": "bbb6b8d9",
   "metadata": {},
   "outputs": [
    {
     "data": {
      "text/plain": [
       "40"
      ]
     },
     "execution_count": 45,
     "metadata": {},
     "output_type": "execute_result"
    }
   ],
   "source": [
    "myDeque.popleft()"
   ]
  },
  {
   "cell_type": "code",
   "execution_count": 46,
   "id": "7ae298e4",
   "metadata": {},
   "outputs": [
    {
     "data": {
      "text/plain": [
       "deque([10, 20])"
      ]
     },
     "execution_count": 46,
     "metadata": {},
     "output_type": "execute_result"
    }
   ],
   "source": [
    "myDeque"
   ]
  }
 ],
 "metadata": {
  "kernelspec": {
   "display_name": "Python 3 (ipykernel)",
   "language": "python",
   "name": "python3"
  },
  "language_info": {
   "codemirror_mode": {
    "name": "ipython",
    "version": 3
   },
   "file_extension": ".py",
   "mimetype": "text/x-python",
   "name": "python",
   "nbconvert_exporter": "python",
   "pygments_lexer": "ipython3",
   "version": "3.11.5"
  }
 },
 "nbformat": 4,
 "nbformat_minor": 5
}
