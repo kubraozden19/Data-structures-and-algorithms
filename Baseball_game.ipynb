{
 "cells": [
  {
   "cell_type": "code",
   "execution_count": 4,
   "id": "e1186138",
   "metadata": {},
   "outputs": [],
   "source": [
    "myImput = [\"5\",\"2\",\"C\",\"D\",\"+\"]"
   ]
  },
  {
   "cell_type": "code",
   "execution_count": 5,
   "id": "bbf563cd",
   "metadata": {},
   "outputs": [],
   "source": [
    "# pythonda stacklerle yaptığımız şeyi listelerle de yapabildiğimiz için stack yerine liste kullanabilirim aynı şey\n",
    "\n",
    "def solution():\n",
    "    \n",
    "    myStack = []\n",
    "    \n",
    "    for op in myImput:\n",
    "        if op == \"C\":\n",
    "            myStack.pop()\n",
    "        elif op == \"+\":\n",
    "            myStack.append(myStack[-1] + myStack[-2]) # + gördüğümüzde -1 ve -2. indextekileri toplayı ekleyeceğiz\n",
    "        elif op == \"D\":\n",
    "            myStack.append(2 * myStack[-1])\n",
    "        else:\n",
    "            myStack.append(int(op))\n",
    "            \n",
    "    return sum(myStack)"
   ]
  },
  {
   "cell_type": "code",
   "execution_count": 6,
   "id": "1fa4f55f",
   "metadata": {},
   "outputs": [
    {
     "data": {
      "text/plain": [
       "30"
      ]
     },
     "execution_count": 6,
     "metadata": {},
     "output_type": "execute_result"
    }
   ],
   "source": [
    "solution()"
   ]
  },
  {
   "cell_type": "code",
   "execution_count": null,
   "id": "04f53f00",
   "metadata": {},
   "outputs": [],
   "source": []
  }
 ],
 "metadata": {
  "kernelspec": {
   "display_name": "Python 3 (ipykernel)",
   "language": "python",
   "name": "python3"
  },
  "language_info": {
   "codemirror_mode": {
    "name": "ipython",
    "version": 3
   },
   "file_extension": ".py",
   "mimetype": "text/x-python",
   "name": "python",
   "nbconvert_exporter": "python",
   "pygments_lexer": "ipython3",
   "version": "3.11.5"
  }
 },
 "nbformat": 4,
 "nbformat_minor": 5
}
