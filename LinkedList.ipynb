{
 "cells": [
  {
   "cell_type": "markdown",
   "id": "2bf15e48",
   "metadata": {},
   "source": [
    "öncelikle Node yani düğüm sınıfını çok iyi anlamamız gerekiyor çünkü mülakatlarda çok fazla karşımıza çıkıyor bazen düğümler bze hazır kod olarak veriliyor bazende düğümün ne olduğunu bilmemizi istiyor \n"
   ]
  },
  {
   "cell_type": "markdown",
   "id": "5a359cb4",
   "metadata": {},
   "source": [
    "## Singly Linked List"
   ]
  },
  {
   "cell_type": "code",
   "execution_count": 2,
   "id": "c0e6423d",
   "metadata": {},
   "outputs": [],
   "source": [
    "class Node(): \n",
    "    \n",
    "    def __init__(self, value):\n",
    "        \n",
    "        self.value = value\n",
    "        self.nextNode = None"
   ]
  },
  {
   "cell_type": "code",
   "execution_count": 4,
   "id": "ec11a80b",
   "metadata": {},
   "outputs": [],
   "source": [
    "firstNode = Node(10)"
   ]
  },
  {
   "cell_type": "code",
   "execution_count": 5,
   "id": "909fbcec",
   "metadata": {},
   "outputs": [],
   "source": [
    "secondNode = Node(20)"
   ]
  },
  {
   "cell_type": "code",
   "execution_count": 6,
   "id": "126f71d8",
   "metadata": {},
   "outputs": [],
   "source": [
    "thirdNode = Node(30)"
   ]
  },
  {
   "cell_type": "code",
   "execution_count": 7,
   "id": "44f34a0c",
   "metadata": {},
   "outputs": [
    {
     "data": {
      "text/plain": [
       "10"
      ]
     },
     "execution_count": 7,
     "metadata": {},
     "output_type": "execute_result"
    }
   ],
   "source": [
    "firstNode.value"
   ]
  },
  {
   "cell_type": "code",
   "execution_count": 8,
   "id": "e49c369d",
   "metadata": {},
   "outputs": [],
   "source": [
    "firstNode.nextNode = secondNode"
   ]
  },
  {
   "cell_type": "code",
   "execution_count": 9,
   "id": "233033e1",
   "metadata": {},
   "outputs": [],
   "source": [
    "secondNode.nextNode = thirdNode"
   ]
  },
  {
   "cell_type": "code",
   "execution_count": 10,
   "id": "42a36942",
   "metadata": {},
   "outputs": [
    {
     "data": {
      "text/plain": [
       "20"
      ]
     },
     "execution_count": 10,
     "metadata": {},
     "output_type": "execute_result"
    }
   ],
   "source": [
    "firstNode.nextNode.value  # 2. nin değerine 1. node'dan erişebildik"
   ]
  },
  {
   "cell_type": "code",
   "execution_count": 12,
   "id": "6a98d916",
   "metadata": {},
   "outputs": [
    {
     "data": {
      "text/plain": [
       "30"
      ]
     },
     "execution_count": 12,
     "metadata": {},
     "output_type": "execute_result"
    }
   ],
   "source": [
    "firstNode.nextNode.nextNode.value # 3. nün değerine 1. node üzerinden erişebildik"
   ]
  },
  {
   "cell_type": "markdown",
   "id": "aea62421",
   "metadata": {},
   "source": [
    "## Doubly Linked List"
   ]
  },
  {
   "cell_type": "code",
   "execution_count": 13,
   "id": "00785950",
   "metadata": {},
   "outputs": [],
   "source": [
    "class DoublyNode():\n",
    "    \n",
    "    def __init__(self, value):\n",
    "        self.value = value\n",
    "        self.nextNode = None\n",
    "        self.prevNode = None"
   ]
  },
  {
   "cell_type": "code",
   "execution_count": 21,
   "id": "57634f32",
   "metadata": {},
   "outputs": [],
   "source": [
    "x = DoublyNode(5)"
   ]
  },
  {
   "cell_type": "code",
   "execution_count": 22,
   "id": "8f2107ef",
   "metadata": {},
   "outputs": [],
   "source": [
    "y = DoublyNode(10)\n",
    "z = DoublyNode(15)"
   ]
  },
  {
   "cell_type": "code",
   "execution_count": 23,
   "id": "d009c066",
   "metadata": {},
   "outputs": [],
   "source": [
    "x.nextNode = y\n",
    "y.prevNode = x"
   ]
  },
  {
   "cell_type": "code",
   "execution_count": 24,
   "id": "44e6086b",
   "metadata": {},
   "outputs": [],
   "source": [
    "y.nextNode = z\n",
    "z.prevNode = y"
   ]
  },
  {
   "cell_type": "code",
   "execution_count": 25,
   "id": "5c7896e4",
   "metadata": {},
   "outputs": [
    {
     "data": {
      "text/plain": [
       "15"
      ]
     },
     "execution_count": 25,
     "metadata": {},
     "output_type": "execute_result"
    }
   ],
   "source": [
    "x.nextNode.nextNode.value  # z nin değerine ulaşabildik"
   ]
  },
  {
   "cell_type": "code",
   "execution_count": 27,
   "id": "ef2ef1f2",
   "metadata": {},
   "outputs": [
    {
     "data": {
      "text/plain": [
       "5"
      ]
     },
     "execution_count": 27,
     "metadata": {},
     "output_type": "execute_result"
    }
   ],
   "source": [
    "z.prevNode.prevNode.value  # x in değerine ulaşabildik"
   ]
  },
  {
   "cell_type": "markdown",
   "id": "02dc118d",
   "metadata": {},
   "source": [
    "## Remove nth Node Çözümü"
   ]
  },
  {
   "cell_type": "code",
   "execution_count": 29,
   "id": "60e22769",
   "metadata": {},
   "outputs": [],
   "source": [
    "class ListNode:\n",
    "    \n",
    "    def __init__(self, val=0, next=None):\n",
    "        self.val = val\n",
    "        self.next = next\n",
    "        "
   ]
  },
  {
   "cell_type": "code",
   "execution_count": 34,
   "id": "4284308b",
   "metadata": {},
   "outputs": [
    {
     "ename": "NameError",
     "evalue": "name 'Optional' is not defined",
     "output_type": "error",
     "traceback": [
      "\u001b[1;31m---------------------------------------------------------------------------\u001b[0m",
      "\u001b[1;31mNameError\u001b[0m                                 Traceback (most recent call last)",
      "Cell \u001b[1;32mIn[34], line 1\u001b[0m\n\u001b[1;32m----> 1\u001b[0m \u001b[38;5;28;01mclass\u001b[39;00m \u001b[38;5;21;01mSolution\u001b[39;00m:\n\u001b[0;32m      3\u001b[0m     \u001b[38;5;28;01mdef\u001b[39;00m \u001b[38;5;21mremoveNthFromEnd\u001b[39m(\u001b[38;5;28mself\u001b[39m, head: Optional[ListNode], n: \u001b[38;5;28mint\u001b[39m) \u001b[38;5;241m-\u001b[39m\u001b[38;5;241m>\u001b[39m Optional[ListNode]:\n\u001b[0;32m      4\u001b[0m         leftPointer \u001b[38;5;241m=\u001b[39m head\n",
      "Cell \u001b[1;32mIn[34], line 3\u001b[0m, in \u001b[0;36mSolution\u001b[1;34m()\u001b[0m\n\u001b[0;32m      1\u001b[0m \u001b[38;5;28;01mclass\u001b[39;00m \u001b[38;5;21;01mSolution\u001b[39;00m:\n\u001b[1;32m----> 3\u001b[0m     \u001b[38;5;28;01mdef\u001b[39;00m \u001b[38;5;21mremoveNthFromEnd\u001b[39m(\u001b[38;5;28mself\u001b[39m, head: Optional[ListNode], n: \u001b[38;5;28mint\u001b[39m) \u001b[38;5;241m-\u001b[39m\u001b[38;5;241m>\u001b[39m Optional[ListNode]:\n\u001b[0;32m      4\u001b[0m         leftPointer \u001b[38;5;241m=\u001b[39m head\n\u001b[0;32m      5\u001b[0m         rightPointer \u001b[38;5;241m=\u001b[39m head\n",
      "\u001b[1;31mNameError\u001b[0m: name 'Optional' is not defined"
     ]
    }
   ],
   "source": [
    "class Solution:\n",
    "    \n",
    "    def removeNthFromEnd(self, head: Optional[ListNode], n: int) -> Optional[ListNode]:\n",
    "        leftPointer = head\n",
    "        rightPointer = head\n",
    "        \n",
    "        while n > 0 and rightPointer != None:\n",
    "            rightPointer = rightPointer.next\n",
    "            n -= 1\n",
    "            \n",
    "            #rightPointer'ı n düğüm kadar ileriye götürür. Bu, rightPointer ile leftPointer arasında n düğümlük bir mesafe oluşturur.\n",
    "            #Bu mesafe sayesinde, rightPointer listenin sonuna ulaştığında leftPointer tam olarak silinecek düğümün öncesine konumlanır\n",
    "\n",
    "\n",
    "        while rightPointer and rightPointer.next:\n",
    "            leftPointer = leftPointer.next\n",
    "            rightPointer = rightPointer.next\n",
    "            \n",
    "            #rightPointer listenin sonuna ulaşana kadar, hem leftPointer hem de rightPointer birlikte hareket eder.\n",
    "            #rightPointer listenin sonuna geldiğinde, leftPointer sondan n+1'inci düğümde olur, yani silinecek düğümün bir öncesinde.\n",
    "            \n",
    "        leftPointer.next = leftPointer.next.next\n",
    "        return head \n",
    "    \n",
    "        #leftPointer.next'ı, leftPointer.next.next'a atayarak leftPointer'ın bir sonraki düğümünü atlayıp listeyi güncelleriz. Bu, silinecek düğümü listeden çıkartır.\n",
    "\"\"\"Özet Bu yöntem, rightPointer ve leftPointer arasında n düğümlük bir mesafe oluşturur. rightPointer listenin sonuna ulaştığında, leftPointer silinecek düğümün bir öncesinde olur ve bu düğüm, leftPointer.next ile atlanarak kaldırılır.\n",
    "Avantaj: Tek geçişte (O(n)) listeyi işler ve ek bellek kullanmadan bu işlemi yapar.\"\"\"\n",
    "        \n",
    "        \n",
    "    \n",
    "    \n",
    "            "
   ]
  },
  {
   "cell_type": "markdown",
   "id": "40ead060",
   "metadata": {},
   "source": [
    "## Intercetion of two linked lists"
   ]
  },
  {
   "cell_type": "code",
   "execution_count": 35,
   "id": "3a26ec63",
   "metadata": {},
   "outputs": [],
   "source": [
    "class ListNode:\n",
    "    \n",
    "    def __init__(self, x):\n",
    "        self.val = x\n",
    "        self.next = Node"
   ]
  },
  {
   "cell_type": "code",
   "execution_count": 36,
   "id": "9b0904a5",
   "metadata": {},
   "outputs": [],
   "source": [
    "def solution(headA, headB):\n",
    "    \n",
    "    firstPointer = headA\n",
    "    secondPointer = headB\n",
    "    \n",
    "    while firstPointer != secondPointer:\n",
    "        \n",
    "        firstPointer = firstPointer.next if firstPointer != None else headB\n",
    "        secondPointer = secondPointer.next if secondPointer != None else headA\n",
    "        \n",
    "    return firstPointer\n",
    "        "
   ]
  },
  {
   "cell_type": "code",
   "execution_count": 44,
   "id": "7792911e",
   "metadata": {},
   "outputs": [],
   "source": [
    "class ListNode:\n",
    "    def __init__(self, val=0, next=None):\n",
    "        self.val = val\n",
    "        self.next = next\n",
    "\n",
    "class Solution:\n",
    "    def getIntersectionNode(self, headA: ListNode, headB: ListNode) -> ListNode:\n",
    "        # İki gösterici başlat\n",
    "        pointerA = headA\n",
    "        pointerB = headB\n",
    "\n",
    "        # Göstericiler eşit olana veya her ikisi de null olana kadar döngü\n",
    "        while pointerA != pointerB:\n",
    "            # pointerA null'a ulaşırsa, headB'ye sıfırla, aksi halde sonraki düğüme ilerle\n",
    "            pointerA = headB if pointerA is None else pointerA.next\n",
    "            # pointerB null'a ulaşırsa, headA'ya sıfırla, aksi halde sonraki düğüme ilerle\n",
    "            pointerB = headA if pointerB is None else pointerB.next\n",
    "\n",
    "        # Kesinlikle birleşme düğümünde buluşacaklar veya her ikisi de null olacak\n",
    "        return pointerA\n"
   ]
  },
  {
   "cell_type": "code",
   "execution_count": 45,
   "id": "0208d2a6",
   "metadata": {},
   "outputs": [],
   "source": [
    "# Örnek liste düğümlerini oluştur\n",
    "a1 = ListNode(1)\n",
    "a2 = ListNode(2)\n",
    "b1 = ListNode(3)\n",
    "b2 = ListNode(4)\n",
    "b3 = ListNode(5)\n",
    "c1 = ListNode(6)\n",
    "c2 = ListNode(7)\n",
    "c3 = ListNode(8)\n",
    "\n",
    "# Liste A: a1 -> a2 -> c1 -> c2 -> c3\n",
    "a1.next = a2\n",
    "a2.next = c1\n",
    "c1.next = c2\n",
    "c2.next = c3\n",
    "\n",
    "# Liste B: b1 -> b2 -> b3 -> c1 -> c2 -> c3\n",
    "b1.next = b2\n",
    "b2.next = b3\n",
    "b3.next = c1\n",
    "\n"
   ]
  },
  {
   "cell_type": "code",
   "execution_count": 46,
   "id": "989c6756",
   "metadata": {},
   "outputs": [
    {
     "name": "stdout",
     "output_type": "stream",
     "text": [
      "6\n"
     ]
    }
   ],
   "source": [
    "# Çözüm nesnesi\n",
    "solution = Solution()\n",
    "intersection = solution.getIntersectionNode(a1, b1)\n",
    "\n",
    "# Çıktıyı yazdır\n",
    "print(intersection.val if intersection else \"No intersection\")"
   ]
  },
  {
   "cell_type": "markdown",
   "id": "3b1df5e5",
   "metadata": {},
   "source": [
    "## Find the Duplicate Number"
   ]
  },
  {
   "cell_type": "code",
   "execution_count": 47,
   "id": "73116837",
   "metadata": {},
   "outputs": [],
   "source": [
    "myList = [5,2,1,3,4,3]"
   ]
  },
  {
   "cell_type": "code",
   "execution_count": null,
   "id": "f1fbad56",
   "metadata": {},
   "outputs": [],
   "source": [
    "def solutionn2():\n",
    "    for i in range(0, len(myList)):  # İlk döngü: myList'in tüm öğelerini sırayla dolaşır\n",
    "        for j in range(0, len(myList)):  # İkinci döngü: Her öğeyi diğer tüm öğelerle karşılaştırır\n",
    "            if i == j:  # Aynı öğeyi kendiyle karşılaştırmamak için kontrol\n",
    "                continue  # Eğer i ve j aynıysa, devam et (bu döngü turunu atla)\n",
    "            if myList[i] == myList[j]:  # Eğer iki öğe eşitse (aynı sayıyı bulduk)\n",
    "                return myList[i]  # Bu sayıyı döndür\n"
   ]
  },
  {
   "cell_type": "code",
   "execution_count": 52,
   "id": "4a1569e0",
   "metadata": {},
   "outputs": [
    {
     "data": {
      "text/plain": [
       "3"
      ]
     },
     "execution_count": 52,
     "metadata": {},
     "output_type": "execute_result"
    }
   ],
   "source": [
    "solutionn2()"
   ]
  },
  {
   "cell_type": "markdown",
   "id": "ed0573f8",
   "metadata": {},
   "source": [
    "### Floyd'un döngü algoritması ile bu sorunun çözümü"
   ]
  },
  {
   "cell_type": "code",
   "execution_count": 61,
   "id": "1e4b0829",
   "metadata": {},
   "outputs": [],
   "source": [
    "def floydSolution():\n",
    "    slowPointer = 0  # Yavaş gösterici, başlangıçta 0\n",
    "    fastPointer = 0  # Hızlı gösterici, başlangıçta 0\n",
    "\n",
    "    # Döngü tespiti (Cycle Detection)\n",
    "    while True:\n",
    "        slowPointer = myList[slowPointer]  # Yavaş gösterici bir adım ilerler\n",
    "        fastPointer = myList[myList[fastPointer]]  # Hızlı gösterici iki adım ilerler\n",
    "        print(\"slowPointer :\", slowPointer)\n",
    "        print(\"fastPointer :\",fastPointer)\n",
    "        if slowPointer == fastPointer:  # Göstericiler aynı noktada buluşursa\n",
    "            break  # Döngü tespit edildi, döngüyü kır\n",
    "\n",
    "    # Kesişme noktasını bulma\n",
    "    secondSlowPointer = 0\n",
    "\n",
    "    while True:\n",
    "        slowPointer = myList[slowPointer]  # Yavaş gösterici bir adım ilerler\n",
    "        secondSlowPointer = myList[secondSlowPointer]  # İkinci yavaş gösterici bir adım ilerler\n",
    "        print(\"second while devrede\")\n",
    "        print(\"slowPointer :\", slowPointer)\n",
    "        print(\"secondSlowPointer :\", secondSlowPointer)\n",
    "        if slowPointer == secondSlowPointer:  # Göstericiler buluşursa\n",
    "            return slowPointer  # Tekrarlayan sayı bulundu\n"
   ]
  },
  {
   "cell_type": "code",
   "execution_count": 76,
   "id": "ed12033b",
   "metadata": {},
   "outputs": [],
   "source": [
    "myList = [5,2,1,7,4,3,6,2]"
   ]
  },
  {
   "cell_type": "code",
   "execution_count": 77,
   "id": "14176ac1",
   "metadata": {},
   "outputs": [
    {
     "name": "stdout",
     "output_type": "stream",
     "text": [
      "slowPointer : 5\n",
      "fastPointer : 3\n",
      "slowPointer : 3\n",
      "fastPointer : 2\n",
      "slowPointer : 7\n",
      "fastPointer : 2\n",
      "slowPointer : 2\n",
      "fastPointer : 2\n",
      "second while devrede\n",
      "slowPointer 1\n",
      "secondSlowPointer 5\n",
      "second while devrede\n",
      "slowPointer 2\n",
      "secondSlowPointer 3\n",
      "second while devrede\n",
      "slowPointer 1\n",
      "secondSlowPointer 7\n",
      "second while devrede\n",
      "slowPointer 2\n",
      "secondSlowPointer 2\n"
     ]
    },
    {
     "data": {
      "text/plain": [
       "2"
      ]
     },
     "execution_count": 77,
     "metadata": {},
     "output_type": "execute_result"
    }
   ],
   "source": [
    "floydSolution()"
   ]
  },
  {
   "cell_type": "code",
   "execution_count": null,
   "id": "16f7cf4b",
   "metadata": {},
   "outputs": [],
   "source": []
  }
 ],
 "metadata": {
  "kernelspec": {
   "display_name": "Python 3 (ipykernel)",
   "language": "python",
   "name": "python3"
  },
  "language_info": {
   "codemirror_mode": {
    "name": "ipython",
    "version": 3
   },
   "file_extension": ".py",
   "mimetype": "text/x-python",
   "name": "python",
   "nbconvert_exporter": "python",
   "pygments_lexer": "ipython3",
   "version": "3.11.5"
  }
 },
 "nbformat": 4,
 "nbformat_minor": 5
}
