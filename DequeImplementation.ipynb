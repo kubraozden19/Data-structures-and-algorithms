{
 "cells": [
  {
   "cell_type": "code",
   "execution_count": 1,
   "id": "1c82f7bf",
   "metadata": {},
   "outputs": [
    {
     "data": {
      "text/plain": [
       "'\\nDeque()\\n\\naddLeft()\\naddLeft()\\n\\nremoveRight()\\nremoveLeft()\\n\\nisEmpty()\\nsize()\\n\\n'"
      ]
     },
     "execution_count": 1,
     "metadata": {},
     "output_type": "execute_result"
    }
   ],
   "source": [
    "'''\n",
    "Deque()\n",
    "\n",
    "addLeft()\n",
    "addLeft()\n",
    "\n",
    "removeRight()\n",
    "removeLeft()\n",
    "\n",
    "isEmpty()\n",
    "size()\n",
    "\n",
    "'''"
   ]
  },
  {
   "cell_type": "code",
   "execution_count": 2,
   "id": "ddeecca3",
   "metadata": {},
   "outputs": [],
   "source": [
    "class Deque():\n",
    "    \n",
    "    def __init__(self):\n",
    "        self.elements = []\n",
    "        \n",
    "    def isEmpty(self):\n",
    "        return self.elements == []\n",
    "    \n",
    "    def addLeft(self,element):\n",
    "        self.elements.insert(0,element) # ilk indexe ekler\n",
    "    \n",
    "    def addRight(self, element):\n",
    "        self.elements.append(element) # herhangi bir index vermediğimiz için sona ekler\n",
    "        \n",
    "    def removeLeft(self):\n",
    "        return self.elements.pop(0)  # ilk ikdexi çıkarır\n",
    "    \n",
    "    def removeRight(self):\n",
    "        return self.elements.pop()  # herhangi bir index vermeden pop() dediğimizde son indexi çıkarır\n",
    "    \n",
    "    def size(self):\n",
    "        return len(self.elements)"
   ]
  },
  {
   "cell_type": "code",
   "execution_count": 3,
   "id": "92ab8a94",
   "metadata": {},
   "outputs": [],
   "source": [
    "myDeque = Deque() "
   ]
  },
  {
   "cell_type": "code",
   "execution_count": 4,
   "id": "b0ff5161",
   "metadata": {},
   "outputs": [
    {
     "data": {
      "text/plain": [
       "True"
      ]
     },
     "execution_count": 4,
     "metadata": {},
     "output_type": "execute_result"
    }
   ],
   "source": [
    "myDeque.isEmpty()"
   ]
  },
  {
   "cell_type": "code",
   "execution_count": 5,
   "id": "4a8b702b",
   "metadata": {},
   "outputs": [],
   "source": [
    "myDeque.addRight(10)"
   ]
  },
  {
   "cell_type": "code",
   "execution_count": 10,
   "id": "29986b23",
   "metadata": {},
   "outputs": [
    {
     "data": {
      "text/plain": [
       "False"
      ]
     },
     "execution_count": 10,
     "metadata": {},
     "output_type": "execute_result"
    }
   ],
   "source": [
    "myDeque.isEmpty()"
   ]
  },
  {
   "cell_type": "code",
   "execution_count": 12,
   "id": "a1992c92",
   "metadata": {},
   "outputs": [
    {
     "data": {
      "text/plain": [
       "[10]"
      ]
     },
     "execution_count": 12,
     "metadata": {},
     "output_type": "execute_result"
    }
   ],
   "source": [
    "myDeque.elements"
   ]
  },
  {
   "cell_type": "code",
   "execution_count": 13,
   "id": "109a6354",
   "metadata": {},
   "outputs": [
    {
     "name": "stdout",
     "output_type": "stream",
     "text": [
      "[10]\n"
     ]
    }
   ],
   "source": [
    "print(myDeque.elements)"
   ]
  },
  {
   "cell_type": "code",
   "execution_count": 14,
   "id": "6c8caba5",
   "metadata": {},
   "outputs": [],
   "source": [
    "myDeque.addRight(20)"
   ]
  },
  {
   "cell_type": "code",
   "execution_count": 15,
   "id": "bff4e175",
   "metadata": {},
   "outputs": [
    {
     "data": {
      "text/plain": [
       "[10, 20]"
      ]
     },
     "execution_count": 15,
     "metadata": {},
     "output_type": "execute_result"
    }
   ],
   "source": [
    "myDeque.elements"
   ]
  },
  {
   "cell_type": "code",
   "execution_count": 16,
   "id": "5f7db78a",
   "metadata": {},
   "outputs": [],
   "source": [
    "myDeque.addLeft(5)"
   ]
  },
  {
   "cell_type": "code",
   "execution_count": 17,
   "id": "3c6a05b9",
   "metadata": {},
   "outputs": [
    {
     "data": {
      "text/plain": [
       "[5, 10, 20]"
      ]
     },
     "execution_count": 17,
     "metadata": {},
     "output_type": "execute_result"
    }
   ],
   "source": [
    "myDeque.elements"
   ]
  },
  {
   "cell_type": "code",
   "execution_count": 18,
   "id": "a2607bf2",
   "metadata": {},
   "outputs": [],
   "source": [
    "myDeque.addRight(25)"
   ]
  },
  {
   "cell_type": "code",
   "execution_count": 19,
   "id": "fcf179a6",
   "metadata": {},
   "outputs": [
    {
     "data": {
      "text/plain": [
       "[5, 10, 20, 25]"
      ]
     },
     "execution_count": 19,
     "metadata": {},
     "output_type": "execute_result"
    }
   ],
   "source": [
    "myDeque.elements"
   ]
  },
  {
   "cell_type": "code",
   "execution_count": 20,
   "id": "420b5f3a",
   "metadata": {},
   "outputs": [
    {
     "data": {
      "text/plain": [
       "5"
      ]
     },
     "execution_count": 20,
     "metadata": {},
     "output_type": "execute_result"
    }
   ],
   "source": [
    "myDeque.removeLeft()"
   ]
  },
  {
   "cell_type": "code",
   "execution_count": 21,
   "id": "698cf109",
   "metadata": {},
   "outputs": [
    {
     "data": {
      "text/plain": [
       "[10, 20, 25]"
      ]
     },
     "execution_count": 21,
     "metadata": {},
     "output_type": "execute_result"
    }
   ],
   "source": [
    "myDeque.elements"
   ]
  },
  {
   "cell_type": "code",
   "execution_count": 22,
   "id": "2893ccf9",
   "metadata": {},
   "outputs": [
    {
     "data": {
      "text/plain": [
       "25"
      ]
     },
     "execution_count": 22,
     "metadata": {},
     "output_type": "execute_result"
    }
   ],
   "source": [
    "myDeque.removeRight()"
   ]
  },
  {
   "cell_type": "code",
   "execution_count": 23,
   "id": "a7739652",
   "metadata": {},
   "outputs": [
    {
     "data": {
      "text/plain": [
       "[10, 20]"
      ]
     },
     "execution_count": 23,
     "metadata": {},
     "output_type": "execute_result"
    }
   ],
   "source": [
    "myDeque.elements"
   ]
  },
  {
   "cell_type": "code",
   "execution_count": 24,
   "id": "fc7defcb",
   "metadata": {},
   "outputs": [
    {
     "data": {
      "text/plain": [
       "2"
      ]
     },
     "execution_count": 24,
     "metadata": {},
     "output_type": "execute_result"
    }
   ],
   "source": [
    "myDeque.size()"
   ]
  },
  {
   "cell_type": "code",
   "execution_count": 25,
   "id": "3e6ab43e",
   "metadata": {},
   "outputs": [
    {
     "data": {
      "text/plain": [
       "[10, 20]"
      ]
     },
     "execution_count": 25,
     "metadata": {},
     "output_type": "execute_result"
    }
   ],
   "source": [
    "myDeque.elements"
   ]
  },
  {
   "cell_type": "code",
   "execution_count": 27,
   "id": "5a801cb1",
   "metadata": {},
   "outputs": [],
   "source": [
    "myDeque.addRight(30)"
   ]
  },
  {
   "cell_type": "code",
   "execution_count": 29,
   "id": "6d8480f5",
   "metadata": {},
   "outputs": [
    {
     "data": {
      "text/plain": [
       "[10, 20, 30]"
      ]
     },
     "execution_count": 29,
     "metadata": {},
     "output_type": "execute_result"
    }
   ],
   "source": [
    "myDeque.elements"
   ]
  },
  {
   "cell_type": "code",
   "execution_count": 30,
   "id": "c59d7a79",
   "metadata": {},
   "outputs": [
    {
     "data": {
      "text/plain": [
       "30"
      ]
     },
     "execution_count": 30,
     "metadata": {},
     "output_type": "execute_result"
    }
   ],
   "source": [
    "myDeque.removeRight()"
   ]
  },
  {
   "cell_type": "code",
   "execution_count": 31,
   "id": "736468ca",
   "metadata": {},
   "outputs": [
    {
     "data": {
      "text/plain": [
       "10"
      ]
     },
     "execution_count": 31,
     "metadata": {},
     "output_type": "execute_result"
    }
   ],
   "source": [
    "myDeque.removeLeft()"
   ]
  },
  {
   "cell_type": "code",
   "execution_count": 33,
   "id": "f3924d61",
   "metadata": {},
   "outputs": [
    {
     "data": {
      "text/plain": [
       "[20]"
      ]
     },
     "execution_count": 33,
     "metadata": {},
     "output_type": "execute_result"
    }
   ],
   "source": [
    "myDeque.elements"
   ]
  },
  {
   "cell_type": "code",
   "execution_count": null,
   "id": "fdd128d1",
   "metadata": {},
   "outputs": [],
   "source": []
  }
 ],
 "metadata": {
  "kernelspec": {
   "display_name": "Python 3 (ipykernel)",
   "language": "python",
   "name": "python3"
  },
  "language_info": {
   "codemirror_mode": {
    "name": "ipython",
    "version": 3
   },
   "file_extension": ".py",
   "mimetype": "text/x-python",
   "name": "python",
   "nbconvert_exporter": "python",
   "pygments_lexer": "ipython3",
   "version": "3.11.5"
  }
 },
 "nbformat": 4,
 "nbformat_minor": 5
}
