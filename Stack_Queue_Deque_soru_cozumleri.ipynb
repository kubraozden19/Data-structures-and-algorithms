{
 "cells": [
  {
   "cell_type": "code",
   "execution_count": 48,
   "id": "3111914a",
   "metadata": {},
   "outputs": [],
   "source": [
    "from collections import deque\n",
    "\n",
    "class MyStack:\n",
    "    \n",
    "    def __init__(self):\n",
    "        self.myQueue = deque()\n",
    "        \n",
    "    def push(self, x : int) -> None:\n",
    "        self.myQueue.append(x)\n",
    "        \n",
    "    def top(self) -> int:\n",
    "        return self.myQueue[- 1] # son elemanı göster\n",
    "    \n",
    "    def empty(self) -> bool:\n",
    "        return len(self.myQueue) == 0\n",
    "        \n",
    "    def size(self):\n",
    "        return len(self.myQueue)\n",
    "    \n",
    "    def pop(self) -> int:\n",
    "        \n",
    "        for i in range(len(self.myQueue) -1 ):  # son elemana gelene kadar bunu yapacak çünkü son eleman çıkarılıp eklenmesi istenmiyor\n",
    "            self.myQueue.append(self.myQueue.popleft())  # en baştan alıp yine listeye ekleyeceğiz \n",
    "        \n",
    "        return self.myQueue.popleft() # for döngüsü son elemana kadar çıkarıp ekliyor son elemana gelindiğinde ise sadece çıkarıyoruz geri eklemeyeceğiz\n",
    "    \n",
    "    "
   ]
  },
  {
   "cell_type": "code",
   "execution_count": 50,
   "id": "c4a0b6a1",
   "metadata": {},
   "outputs": [],
   "source": [
    "mystack = MyStack()"
   ]
  },
  {
   "cell_type": "code",
   "execution_count": 51,
   "id": "3c170fec",
   "metadata": {},
   "outputs": [
    {
     "data": {
      "text/plain": [
       "True"
      ]
     },
     "execution_count": 51,
     "metadata": {},
     "output_type": "execute_result"
    }
   ],
   "source": [
    "mystack.empty()"
   ]
  },
  {
   "cell_type": "code",
   "execution_count": 52,
   "id": "e0c93217",
   "metadata": {},
   "outputs": [],
   "source": [
    "mystack.push(10)"
   ]
  },
  {
   "cell_type": "code",
   "execution_count": 53,
   "id": "ab6c786b",
   "metadata": {},
   "outputs": [
    {
     "data": {
      "text/plain": [
       "<__main__.MyStack at 0x237fa1b7310>"
      ]
     },
     "execution_count": 53,
     "metadata": {},
     "output_type": "execute_result"
    }
   ],
   "source": [
    "mystack"
   ]
  },
  {
   "cell_type": "code",
   "execution_count": 54,
   "id": "9a5c2faf",
   "metadata": {},
   "outputs": [
    {
     "name": "stdout",
     "output_type": "stream",
     "text": [
      "<__main__.MyStack object at 0x00000237FA1B7310>\n"
     ]
    }
   ],
   "source": [
    "print(mystack)"
   ]
  },
  {
   "cell_type": "code",
   "execution_count": 55,
   "id": "728e8bff",
   "metadata": {},
   "outputs": [
    {
     "data": {
      "text/plain": [
       "False"
      ]
     },
     "execution_count": 55,
     "metadata": {},
     "output_type": "execute_result"
    }
   ],
   "source": [
    "mystack.empty()"
   ]
  },
  {
   "cell_type": "code",
   "execution_count": 56,
   "id": "bd9f3785",
   "metadata": {},
   "outputs": [
    {
     "data": {
      "text/plain": [
       "10"
      ]
     },
     "execution_count": 56,
     "metadata": {},
     "output_type": "execute_result"
    }
   ],
   "source": [
    "mystack.top()"
   ]
  },
  {
   "cell_type": "code",
   "execution_count": 57,
   "id": "784f936c",
   "metadata": {},
   "outputs": [],
   "source": [
    "mystack.push(20)"
   ]
  },
  {
   "cell_type": "code",
   "execution_count": 58,
   "id": "4980765c",
   "metadata": {},
   "outputs": [],
   "source": [
    "mystack.push(30)"
   ]
  },
  {
   "cell_type": "code",
   "execution_count": 59,
   "id": "b92feffa",
   "metadata": {},
   "outputs": [
    {
     "data": {
      "text/plain": [
       "30"
      ]
     },
     "execution_count": 59,
     "metadata": {},
     "output_type": "execute_result"
    }
   ],
   "source": [
    "mystack.top()"
   ]
  },
  {
   "cell_type": "code",
   "execution_count": 60,
   "id": "28fc9092",
   "metadata": {},
   "outputs": [
    {
     "data": {
      "text/plain": [
       "3"
      ]
     },
     "execution_count": 60,
     "metadata": {},
     "output_type": "execute_result"
    }
   ],
   "source": [
    "mystack.size()"
   ]
  },
  {
   "cell_type": "code",
   "execution_count": 61,
   "id": "df8e982c",
   "metadata": {},
   "outputs": [
    {
     "data": {
      "text/plain": [
       "30"
      ]
     },
     "execution_count": 61,
     "metadata": {},
     "output_type": "execute_result"
    }
   ],
   "source": [
    "mystack.pop()"
   ]
  },
  {
   "cell_type": "code",
   "execution_count": 62,
   "id": "fd387af4",
   "metadata": {},
   "outputs": [
    {
     "data": {
      "text/plain": [
       "2"
      ]
     },
     "execution_count": 62,
     "metadata": {},
     "output_type": "execute_result"
    }
   ],
   "source": [
    "mystack.size()"
   ]
  },
  {
   "cell_type": "code",
   "execution_count": 63,
   "id": "6fc18e23",
   "metadata": {},
   "outputs": [
    {
     "data": {
      "text/plain": [
       "20"
      ]
     },
     "execution_count": 63,
     "metadata": {},
     "output_type": "execute_result"
    }
   ],
   "source": [
    "mystack.top()"
   ]
  },
  {
   "cell_type": "code",
   "execution_count": null,
   "id": "72ed6eef",
   "metadata": {},
   "outputs": [],
   "source": []
  }
 ],
 "metadata": {
  "kernelspec": {
   "display_name": "Python 3 (ipykernel)",
   "language": "python",
   "name": "python3"
  },
  "language_info": {
   "codemirror_mode": {
    "name": "ipython",
    "version": 3
   },
   "file_extension": ".py",
   "mimetype": "text/x-python",
   "name": "python",
   "nbconvert_exporter": "python",
   "pygments_lexer": "ipython3",
   "version": "3.11.5"
  }
 },
 "nbformat": 4,
 "nbformat_minor": 5
}
