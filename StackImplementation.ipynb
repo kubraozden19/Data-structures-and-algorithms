{
 "cells": [
  {
   "cell_type": "code",
   "execution_count": 1,
   "id": "bc13458e",
   "metadata": {},
   "outputs": [
    {
     "data": {
      "text/plain": [
       "'\\nMülakatlarde bizden bir stack sınıfı oluşturmamızı isteyebilir yani \\nstack mantığını bildiğimizi göstermek amacıyla\\nStack sınıfını oluşturacağız - Stack()\\n\\npush(item)\\npop()\\nshowLast()\\nsize()\\nisEmpty()\\n\\n\\nListeleri kullanarak stack yazabiliriz \\n'"
      ]
     },
     "execution_count": 1,
     "metadata": {},
     "output_type": "execute_result"
    }
   ],
   "source": [
    "'''\n",
    "Mülakatlarde bizden bir stack sınıfı oluşturmamızı isteyebilir yani \n",
    "stack mantığını bildiğimizi göstermek amacıyla\n",
    "Stack sınıfını oluşturacağız - Stack()\n",
    "\n",
    "push(item)\n",
    "pop()\n",
    "showLast()\n",
    "size()\n",
    "isEmpty()\n",
    "\n",
    "\n",
    "Listeleri kullanarak stack yazabiliriz \n",
    "'''"
   ]
  },
  {
   "cell_type": "code",
   "execution_count": 2,
   "id": "80eed596",
   "metadata": {},
   "outputs": [],
   "source": [
    "class Stack():\n",
    "    \n",
    "    def __init__(self):\n",
    "        self.elements = []\n",
    "        \n",
    "    def isEmpty(self):\n",
    "        return self.elements == []\n",
    "    \n",
    "    def push(self, element):\n",
    "        self.elements.append(element)\n",
    "        \n",
    "    def pop(self):\n",
    "        return self.elements.pop()\n",
    "        \n",
    "    def showLast(self):\n",
    "        return self.elements[-1]\n",
    "    \n",
    "    def size(self):\n",
    "        return len(self.elements)\n",
    "    \n",
    "    "
   ]
  },
  {
   "cell_type": "markdown",
   "id": "09b2f4a1",
   "metadata": {},
   "source": [
    "Her şeyde listenin özelliğini kullandık sanki sadece metoto isimlerini değiştirdik gibi ama burada amaç zaten oturup en baştan koleksiyonları yazmak değil burada amaç yani mülakatçının görmek istediği o algoritmayı anlayıp anlamamamız onu görmek istiyor kodu yazmak mülakatlarda 2-3 dk sürer zaten amaç algoritmayı anlayıp anlamamak "
   ]
  },
  {
   "cell_type": "code",
   "execution_count": 3,
   "id": "fe9f2584",
   "metadata": {},
   "outputs": [],
   "source": [
    "myStack = Stack()"
   ]
  },
  {
   "cell_type": "code",
   "execution_count": 4,
   "id": "ecdb0539",
   "metadata": {},
   "outputs": [
    {
     "data": {
      "text/plain": [
       "True"
      ]
     },
     "execution_count": 4,
     "metadata": {},
     "output_type": "execute_result"
    }
   ],
   "source": [
    "myStack.isEmpty()"
   ]
  },
  {
   "cell_type": "code",
   "execution_count": 5,
   "id": "58e81e1c",
   "metadata": {},
   "outputs": [],
   "source": [
    "myStack.push(10)"
   ]
  },
  {
   "cell_type": "code",
   "execution_count": 6,
   "id": "059dbfdb",
   "metadata": {},
   "outputs": [],
   "source": [
    "myStack.push(20)"
   ]
  },
  {
   "cell_type": "code",
   "execution_count": 7,
   "id": "d7730fb7",
   "metadata": {},
   "outputs": [],
   "source": [
    "myStack.push(40)"
   ]
  },
  {
   "cell_type": "code",
   "execution_count": 8,
   "id": "3c8fcc92",
   "metadata": {},
   "outputs": [
    {
     "data": {
      "text/plain": [
       "40"
      ]
     },
     "execution_count": 8,
     "metadata": {},
     "output_type": "execute_result"
    }
   ],
   "source": [
    "myStack.showLast()"
   ]
  },
  {
   "cell_type": "code",
   "execution_count": 9,
   "id": "581ff3ad",
   "metadata": {},
   "outputs": [],
   "source": [
    "myStack.push(\"a\")"
   ]
  },
  {
   "cell_type": "code",
   "execution_count": 10,
   "id": "070c5c64",
   "metadata": {},
   "outputs": [
    {
     "data": {
      "text/plain": [
       "'a'"
      ]
     },
     "execution_count": 10,
     "metadata": {},
     "output_type": "execute_result"
    }
   ],
   "source": [
    "myStack.showLast()"
   ]
  },
  {
   "cell_type": "code",
   "execution_count": 11,
   "id": "5938ad65",
   "metadata": {},
   "outputs": [
    {
     "data": {
      "text/plain": [
       "'a'"
      ]
     },
     "execution_count": 11,
     "metadata": {},
     "output_type": "execute_result"
    }
   ],
   "source": [
    "myStack.pop()"
   ]
  },
  {
   "cell_type": "code",
   "execution_count": 12,
   "id": "f01e1542",
   "metadata": {},
   "outputs": [
    {
     "data": {
      "text/plain": [
       "40"
      ]
     },
     "execution_count": 12,
     "metadata": {},
     "output_type": "execute_result"
    }
   ],
   "source": [
    "myStack.pop()"
   ]
  },
  {
   "cell_type": "code",
   "execution_count": 13,
   "id": "1822ba08",
   "metadata": {},
   "outputs": [
    {
     "data": {
      "text/plain": [
       "20"
      ]
     },
     "execution_count": 13,
     "metadata": {},
     "output_type": "execute_result"
    }
   ],
   "source": [
    "myStack.pop()"
   ]
  },
  {
   "cell_type": "code",
   "execution_count": 14,
   "id": "2aad51f3",
   "metadata": {},
   "outputs": [
    {
     "data": {
      "text/plain": [
       "10"
      ]
     },
     "execution_count": 14,
     "metadata": {},
     "output_type": "execute_result"
    }
   ],
   "source": [
    "myStack.pop()"
   ]
  },
  {
   "cell_type": "markdown",
   "id": "6f031eeb",
   "metadata": {},
   "source": [
    "Peki stack de reverse işlemini nasıl yapabiliriz ? yani içerisindeki elemanları nasıl ters çevirirsin ? push ettikten sonra pop ettiğimizde tam tersi sırada çıkartacağı için yine en son giren ilk çıkacağı için yani bir stack daha oluşturup burada pop ettiğimiz her şeyi onun içine eklersek ters çevirmiş oluyoruz işte stack nasıl ters çevrilir bu şekilde pop ederek ters çevirebiliyoruz aklımızın bi ucunda dursun :) "
   ]
  },
  {
   "cell_type": "code",
   "execution_count": null,
   "id": "2786c394",
   "metadata": {},
   "outputs": [],
   "source": []
  }
 ],
 "metadata": {
  "kernelspec": {
   "display_name": "Python 3 (ipykernel)",
   "language": "python",
   "name": "python3"
  },
  "language_info": {
   "codemirror_mode": {
    "name": "ipython",
    "version": 3
   },
   "file_extension": ".py",
   "mimetype": "text/x-python",
   "name": "python",
   "nbconvert_exporter": "python",
   "pygments_lexer": "ipython3",
   "version": "3.11.5"
  }
 },
 "nbformat": 4,
 "nbformat_minor": 5
}
