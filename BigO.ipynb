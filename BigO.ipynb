{
 "cells": [
  {
   "cell_type": "code",
   "execution_count": 1,
   "id": "d82c9fbb",
   "metadata": {},
   "outputs": [],
   "source": [
    "# Big O  Notation -> O() bu şekilde gösteriliyor.\n",
    "# Time Complexity - Space Complexity "
   ]
  },
  {
   "cell_type": "code",
   "execution_count": 2,
   "id": "617ee1af",
   "metadata": {},
   "outputs": [],
   "source": [
    "def bigon(n): # n ile \n",
    "    for i in range(0,n):\n",
    "        print(i)"
   ]
  },
  {
   "cell_type": "code",
   "execution_count": 4,
   "id": "5bbafdf4",
   "metadata": {},
   "outputs": [
    {
     "name": "stdout",
     "output_type": "stream",
     "text": [
      "0\n",
      "1\n",
      "2\n",
      "3\n",
      "4\n"
     ]
    }
   ],
   "source": [
    "bigon(5)"
   ]
  },
  {
   "cell_type": "markdown",
   "id": "983d8cfe",
   "metadata": {},
   "source": [
    "Mesela bir kıyaslama yapacağız her bir eleman ile diğer elemanları kıyaslayacağız ya da bir sorting (sıralama) yapıyoruz o zaman aşağıdaki şekilde n^2 şeklinde bir döngü kullanıyoruz"
   ]
  },
  {
   "cell_type": "code",
   "execution_count": 8,
   "id": "ac784617",
   "metadata": {},
   "outputs": [],
   "source": [
    "def bigon2(n): # n^2 ile \n",
    "    for i in range(0,n):\n",
    "        for j in range(0,n):\n",
    "            print(i,j)"
   ]
  },
  {
   "cell_type": "code",
   "execution_count": 9,
   "id": "5dc324b0",
   "metadata": {},
   "outputs": [
    {
     "name": "stdout",
     "output_type": "stream",
     "text": [
      "0 0\n",
      "0 1\n",
      "0 2\n",
      "0 3\n",
      "0 4\n",
      "1 0\n",
      "1 1\n",
      "1 2\n",
      "1 3\n",
      "1 4\n",
      "2 0\n",
      "2 1\n",
      "2 2\n",
      "2 3\n",
      "2 4\n",
      "3 0\n",
      "3 1\n",
      "3 2\n",
      "3 3\n",
      "3 4\n",
      "4 0\n",
      "4 1\n",
      "4 2\n",
      "4 3\n",
      "4 4\n"
     ]
    }
   ],
   "source": [
    "bigon2(5)"
   ]
  },
  {
   "cell_type": "code",
   "execution_count": 10,
   "id": "0308aeca",
   "metadata": {},
   "outputs": [],
   "source": [
    "def bigon3(n):\n",
    "    for i in range(0,n):\n",
    "        for j in range(0,n):\n",
    "            for k in range(0,n):\n",
    "                print(i,j,k)"
   ]
  },
  {
   "cell_type": "code",
   "execution_count": 11,
   "id": "90ed085b",
   "metadata": {},
   "outputs": [
    {
     "name": "stdout",
     "output_type": "stream",
     "text": [
      "0 0 0\n",
      "0 0 1\n",
      "0 0 2\n",
      "0 1 0\n",
      "0 1 1\n",
      "0 1 2\n",
      "0 2 0\n",
      "0 2 1\n",
      "0 2 2\n",
      "1 0 0\n",
      "1 0 1\n",
      "1 0 2\n",
      "1 1 0\n",
      "1 1 1\n",
      "1 1 2\n",
      "1 2 0\n",
      "1 2 1\n",
      "1 2 2\n",
      "2 0 0\n",
      "2 0 1\n",
      "2 0 2\n",
      "2 1 0\n",
      "2 1 1\n",
      "2 1 2\n",
      "2 2 0\n",
      "2 2 1\n",
      "2 2 2\n"
     ]
    }
   ],
   "source": [
    "bigon3(3)"
   ]
  },
  {
   "cell_type": "code",
   "execution_count": 13,
   "id": "e88431bd",
   "metadata": {},
   "outputs": [],
   "source": [
    "import math\n",
    "\n",
    "def logn(n):\n",
    "    while n > 1:\n",
    "        n = math.floor(n/2)\n",
    "        print(n)"
   ]
  },
  {
   "cell_type": "code",
   "execution_count": 14,
   "id": "caf4a865",
   "metadata": {},
   "outputs": [
    {
     "name": "stdout",
     "output_type": "stream",
     "text": [
      "25\n",
      "12\n",
      "6\n",
      "3\n",
      "1\n"
     ]
    }
   ],
   "source": [
    "logn(50)"
   ]
  },
  {
   "cell_type": "code",
   "execution_count": 16,
   "id": "12ffa892",
   "metadata": {},
   "outputs": [],
   "source": [
    "def nlogn(n):\n",
    "    lim = n\n",
    "    while n > 1:\n",
    "        n = math.floor(n/2)\n",
    "        for i in range(1,lim):\n",
    "            print(i)"
   ]
  },
  {
   "attachments": {},
   "cell_type": "markdown",
   "id": "3156e6a2",
   "metadata": {},
   "source": [
    "dikkat edersek n^2 den daha verimli yani 16^2 kadar çalışmadı daha az çalıştı ama n kadar da çalışmadı logn kadar da çalışmadı nlogn kadar çalıştı. Burada nlogn arada kalan bir ifade n^2 den verimli ama n kadar verimli değil. Genelde sorting(sıralama) algoritmalarında yani bir diziyi dizme gibi algoritmalarda kullanılır. Genelde en verimli nlogn dir. En kötü case yani worst case de ise n^2 ler doludur. Genelde algoritmalarda da nlogn kullanılır. O yüzden nlogn çok aklımızda olması gereken bir kısım"
   ]
  },
  {
   "cell_type": "code",
   "execution_count": 20,
   "id": "457188e2",
   "metadata": {},
   "outputs": [
    {
     "name": "stdout",
     "output_type": "stream",
     "text": [
      "1\n",
      "2\n",
      "3\n",
      "4\n",
      "5\n",
      "6\n",
      "7\n",
      "8\n",
      "9\n",
      "10\n",
      "11\n",
      "12\n",
      "13\n",
      "14\n",
      "15\n",
      "1\n",
      "2\n",
      "3\n",
      "4\n",
      "5\n",
      "6\n",
      "7\n",
      "8\n",
      "9\n",
      "10\n",
      "11\n",
      "12\n",
      "13\n",
      "14\n",
      "15\n",
      "1\n",
      "2\n",
      "3\n",
      "4\n",
      "5\n",
      "6\n",
      "7\n",
      "8\n",
      "9\n",
      "10\n",
      "11\n",
      "12\n",
      "13\n",
      "14\n",
      "15\n",
      "1\n",
      "2\n",
      "3\n",
      "4\n",
      "5\n",
      "6\n",
      "7\n",
      "8\n",
      "9\n",
      "10\n",
      "11\n",
      "12\n",
      "13\n",
      "14\n",
      "15\n"
     ]
    }
   ],
   "source": [
    "nlogn(16)"
   ]
  },
  {
   "cell_type": "code",
   "execution_count": 21,
   "id": "80fe4f9b",
   "metadata": {},
   "outputs": [],
   "source": [
    "def nfactoriel(n):\n",
    "    if n == 0:\n",
    "        print(\"1\")\n",
    "        return\n",
    "    else:\n",
    "        for i in range(0,n):\n",
    "            print(i)\n",
    "            nfactoriel(n-1) #recursive"
   ]
  },
  {
   "cell_type": "markdown",
   "id": "7088259f",
   "metadata": {},
   "source": [
    "Bişeyin factoriyelini hesaplamak nfactoriel demek değil !! algoritmamız factoriel kadar çağırılıyorsa O(nfactoriel) deriz ona, bir şeyin factoriyelini hesaplamak istiyorsak recursive fonksiyonları ile çok kısa sürede hatta o(n) kadar bir sürede hesaplayabiliriz bunu ama diğer türlü bizim için sıkıntı çıkarıyor"
   ]
  },
  {
   "cell_type": "code",
   "execution_count": 23,
   "id": "a1993452",
   "metadata": {},
   "outputs": [
    {
     "name": "stdout",
     "output_type": "stream",
     "text": [
      "0\n",
      "0\n",
      "0\n",
      "1\n",
      "1\n",
      "0\n",
      "1\n",
      "1\n",
      "0\n",
      "0\n",
      "1\n",
      "1\n",
      "0\n",
      "1\n",
      "2\n",
      "0\n",
      "0\n",
      "1\n",
      "1\n",
      "0\n",
      "1\n"
     ]
    }
   ],
   "source": [
    "nfactoriel(3)"
   ]
  },
  {
   "cell_type": "code",
   "execution_count": 27,
   "id": "162fca42",
   "metadata": {},
   "outputs": [],
   "source": [
    "# gerçekten bir şeyin factoriyelini hesaplamamızı istediler diyelim\n",
    "# bu fonksiyonun ne kadar çalıştığını, çağrıldığını anlayabilmek için bir counter(sayaç) verelim\n",
    "\n",
    "counter = 0\n",
    "def actualFactorial(n):\n",
    "    global counter\n",
    "    counter += 1\n",
    "    print(counter)\n",
    "    if (n ==1 or n == 0):\n",
    "        return 1\n",
    "    else:\n",
    "        return (n * actualFactorial(n-1))"
   ]
  },
  {
   "cell_type": "code",
   "execution_count": 28,
   "id": "2051017f",
   "metadata": {},
   "outputs": [
    {
     "name": "stdout",
     "output_type": "stream",
     "text": [
      "1\n",
      "2\n",
      "3\n",
      "4\n"
     ]
    },
    {
     "data": {
      "text/plain": [
       "24"
      ]
     },
     "execution_count": 28,
     "metadata": {},
     "output_type": "execute_result"
    }
   ],
   "source": [
    "actualFactorial(4)"
   ]
  },
  {
   "cell_type": "markdown",
   "id": "a8c6e584",
   "metadata": {},
   "source": [
    "Bu gerçek bir factoriyel hesaplama algoritması yani factoriyel algoritması(actualFactoriyel) ile factoriyel kadar artan (nfactorial) algoritmasını birbirine karıştırma !!"
   ]
  },
  {
   "cell_type": "code",
   "execution_count": null,
   "id": "3d9694d7",
   "metadata": {},
   "outputs": [],
   "source": [
    "[10,30,40,10,5,3,2]  # O(1)"
   ]
  }
 ],
 "metadata": {
  "kernelspec": {
   "display_name": "Python 3 (ipykernel)",
   "language": "python",
   "name": "python3"
  },
  "language_info": {
   "codemirror_mode": {
    "name": "ipython",
    "version": 3
   },
   "file_extension": ".py",
   "mimetype": "text/x-python",
   "name": "python",
   "nbconvert_exporter": "python",
   "pygments_lexer": "ipython3",
   "version": "3.11.5"
  }
 },
 "nbformat": 4,
 "nbformat_minor": 5
}
