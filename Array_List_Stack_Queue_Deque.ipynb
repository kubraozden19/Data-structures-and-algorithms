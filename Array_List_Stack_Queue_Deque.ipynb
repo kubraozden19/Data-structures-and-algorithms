{
 "cells": [
  {
   "cell_type": "markdown",
   "id": "71486d04",
   "metadata": {},
   "source": [
    "Big-O notasyonu, algoritmanın çalışmasının nasıl ölçeklendiğini anlatır ve temel olarak şu sorulara cevap arar:\n",
    "\n",
    "- **Zaman Karmaşıklığı (Time Complexity)**: Algoritmanın çalışma süresi giriş boyutu büyüdükçe nasıl değişir?\n",
    "- **Alan Karmaşıklığı (Space Complexity)**: Algoritmanın kullandığı bellek miktarı giriş boyutu arttıkça nasıl değişir?\n",
    "\n",
    "Big-O notasyonu en çok şu şekillerde kullanılır:\n",
    "\n",
    "- **O(1)**: Sabit zaman, yani algoritma girişin boyutundan bağımsız olarak aynı sürede çalışır.\n",
    "- **O(n)**: Doğrusal zaman, yani algoritma girdinin boyutu kadar işlem yapar.\n",
    "- **O(n²)**: Karesel zaman, yani algoritmanın çalışma süresi girdinin boyutunun karesiyle orantılıdır.\n",
    "- **O(log n)**: Logaritmik zaman, yani algoritma girdinin boyutuna logaritmik bir oranda işlem yapar.\n",
    "\n",
    "Bu notasyon, özellikle büyük veri kümelerinde algoritmaların verimliliğini anlamak için kullanışlıdır."
   ]
  },
  {
   "cell_type": "code",
   "execution_count": 1,
   "id": "7d7228b8",
   "metadata": {},
   "outputs": [],
   "source": [
    "# Array, List, Stack, Queue, Deque"
   ]
  },
  {
   "cell_type": "code",
   "execution_count": 2,
   "id": "b7c2a46d",
   "metadata": {},
   "outputs": [],
   "source": [
    "import array as arr"
   ]
  },
  {
   "cell_type": "code",
   "execution_count": 3,
   "id": "e50dff00",
   "metadata": {},
   "outputs": [],
   "source": [
    "myArray = arr.array(\"i\", [3,6,9,12])"
   ]
  },
  {
   "cell_type": "code",
   "execution_count": 4,
   "id": "a1018576",
   "metadata": {},
   "outputs": [],
   "source": [
    "myArray.append(15)"
   ]
  },
  {
   "cell_type": "code",
   "execution_count": 5,
   "id": "f33ad60f",
   "metadata": {},
   "outputs": [
    {
     "data": {
      "text/plain": [
       "array('i', [3, 6, 9, 12, 15])"
      ]
     },
     "execution_count": 5,
     "metadata": {},
     "output_type": "execute_result"
    }
   ],
   "source": [
    "myArray"
   ]
  },
  {
   "cell_type": "code",
   "execution_count": 7,
   "id": "92db9ac7",
   "metadata": {},
   "outputs": [],
   "source": [
    "#LİST\n",
    "\n",
    "myList = [1,2,3,4,5]"
   ]
  },
  {
   "cell_type": "code",
   "execution_count": 8,
   "id": "ec2f222c",
   "metadata": {},
   "outputs": [],
   "source": [
    "otherList = [6,7,8]"
   ]
  },
  {
   "cell_type": "code",
   "execution_count": 10,
   "id": "f03bd640",
   "metadata": {},
   "outputs": [],
   "source": [
    "myList.extend(otherList)"
   ]
  },
  {
   "cell_type": "code",
   "execution_count": 11,
   "id": "846329a2",
   "metadata": {},
   "outputs": [
    {
     "data": {
      "text/plain": [
       "[1, 2, 3, 4, 5, 6, 7, 8]"
      ]
     },
     "execution_count": 11,
     "metadata": {},
     "output_type": "execute_result"
    }
   ],
   "source": [
    "myList"
   ]
  },
  {
   "cell_type": "markdown",
   "id": "bc910ccf",
   "metadata": {},
   "source": [
    "Yukarıda gördüğümüz şekilde listelerde ekleme işlemi yapabiliyoruz ki hatta bir listeyi başka bir liste içerisine ekleyebiliyoruz. Bunun hafızadaki durumuna bakacak olursak "
   ]
  },
  {
   "cell_type": "code",
   "execution_count": 12,
   "id": "47c032f3",
   "metadata": {},
   "outputs": [],
   "source": [
    "result = [0] * 8"
   ]
  },
  {
   "cell_type": "code",
   "execution_count": 13,
   "id": "7ead1bad",
   "metadata": {},
   "outputs": [
    {
     "data": {
      "text/plain": [
       "[0, 0, 0, 0, 0, 0, 0, 0]"
      ]
     },
     "execution_count": 13,
     "metadata": {},
     "output_type": "execute_result"
    }
   ],
   "source": [
    "result"
   ]
  },
  {
   "cell_type": "code",
   "execution_count": 14,
   "id": "e8a4306d",
   "metadata": {},
   "outputs": [
    {
     "data": {
      "text/plain": [
       "list"
      ]
     },
     "execution_count": 14,
     "metadata": {},
     "output_type": "execute_result"
    }
   ],
   "source": [
    "type(result)"
   ]
  },
  {
   "cell_type": "code",
   "execution_count": 16,
   "id": "5bb6d8d8",
   "metadata": {},
   "outputs": [
    {
     "data": {
      "text/plain": [
       "[0, 0, 0, 2, 0, 0, 0, 0]"
      ]
     },
     "execution_count": 16,
     "metadata": {},
     "output_type": "execute_result"
    }
   ],
   "source": [
    "result[3] = 2\n",
    "result"
   ]
  },
  {
   "cell_type": "markdown",
   "id": "0b5a1aa3",
   "metadata": {},
   "source": [
    "Bir liste oluşturduğumuzda onun içine sonsuz şey girecek gibi bir yer ayırmıyor hafızada çünkü bir konu içerisinde bin tane liste oluşturabiliriz kod yazarken o yüzden bunun da elinden geldiğinde verimli olması lazım kod için o yüzden sys isimli kütüphaneyi import edip bu kütüphane sistem ile iletişime geçmek için kullandığımız bir kütüphane, bunu import etmek nedenimiz dizinin, listeni vs. gerçekten içeride kaç byte yer kapladığını görebilmek için "
   ]
  },
  {
   "cell_type": "code",
   "execution_count": 17,
   "id": "b8d59bee",
   "metadata": {},
   "outputs": [],
   "source": [
    "import sys"
   ]
  },
  {
   "cell_type": "code",
   "execution_count": 21,
   "id": "be2fc3b6",
   "metadata": {},
   "outputs": [
    {
     "name": "stdout",
     "output_type": "stream",
     "text": [
      "Length: 0 Byte: 56\n",
      "Length: 1 Byte: 88\n",
      "Length: 2 Byte: 88\n",
      "Length: 3 Byte: 88\n",
      "Length: 4 Byte: 88\n",
      "Length: 5 Byte: 120\n",
      "Length: 6 Byte: 120\n",
      "Length: 7 Byte: 120\n",
      "Length: 8 Byte: 120\n",
      "Length: 9 Byte: 184\n",
      "Length: 10 Byte: 184\n",
      "Length: 11 Byte: 184\n",
      "Length: 12 Byte: 184\n",
      "Length: 13 Byte: 184\n",
      "Length: 14 Byte: 184\n"
     ]
    }
   ],
   "source": [
    "n = 15\n",
    "myDynamicArray = []\n",
    "\n",
    "for i in range(n):\n",
    "    \n",
    "    myLength = len(myDynamicArray)\n",
    "    myByte = sys.getsizeof(myDynamicArray)\n",
    "    print(f\"Length: {myLength} Byte: {myByte}\")\n",
    "    myDynamicArray.append(n)"
   ]
  },
  {
   "cell_type": "markdown",
   "id": "8229e105",
   "metadata": {},
   "source": [
    "yukarıda gördüğümüz gibi hemen ilk başta 184 bytelık bir yer ayırmıyor hafızada yavaş yavaş ve optimizde şekilde eleman eklendikçe hafızadaki yeri de açıyor. Dikkat edersek her bir eleman için hafızayı yenilemiyor yani burada yeni bir byte kazanmak demek hafıza da aynı yerde tutmuyor bunu var olanları alıp kopyalayıp yeni bir yere taşıyor buradakileri yok ediyor sonra buradakileri garbage collector yani çöp toplayıcıları topluyor bir süre sonra, yani işte dinamik dizilerde yani listelerde bu şekilde hafızada yer alıyor"
   ]
  },
  {
   "cell_type": "markdown",
   "id": "37428499",
   "metadata": {},
   "source": [
    "#### CONTAINS DUPLICATE sorusu\n",
    "\n",
    "*Contains duplicate sorusu burada diyor ki :\n",
    "içerisinde integerlar olan bir array vereceğiz adı nums, eğer herhangi bir değer 2 kez varsa o zaman True döndürün eğer yoksa false döndürün yani problemimiz basit* bunları çözerken time complexitiysi ne space complextyisi ne ? ne kadar ? bunlara bakmalıyız çünkü mğlakatlarda bunlardan bahsetmek zorunda kalacağız mesela ben burada O(n) \"order of n\" yapıyorum ya da O(1) \"order of 1\" yapıyorum gibi bahsetmemiz gerekecek. O yüzden kendi kendimize çözümü üretirken zaman ve yer kompleksitesini de düşünmemiz gerek benim çözümüm nasıl diye düşünmeliyiz ! yani yaptığımımz çözüme hakim olmalıyız"
   ]
  },
  {
   "cell_type": "code",
   "execution_count": 24,
   "id": "6fc34dd2",
   "metadata": {},
   "outputs": [],
   "source": [
    "# düşünmesi en kolay olan brute force yani bunda her bir elemanı alıp diğerlerini tek tek gezerek karşılaştırmak\n",
    "\n",
    "myList = [1,2,3,4,5,6]"
   ]
  },
  {
   "cell_type": "code",
   "execution_count": 25,
   "id": "19fa1ca7",
   "metadata": {},
   "outputs": [
    {
     "name": "stdout",
     "output_type": "stream",
     "text": [
      "0 0\n",
      "0 1\n",
      "0 2\n",
      "0 3\n",
      "0 4\n",
      "0 5\n",
      "1 0\n",
      "1 1\n",
      "1 2\n",
      "1 3\n",
      "1 4\n",
      "1 5\n",
      "2 0\n",
      "2 1\n",
      "2 2\n",
      "2 3\n",
      "2 4\n",
      "2 5\n",
      "3 0\n",
      "3 1\n",
      "3 2\n",
      "3 3\n",
      "3 4\n",
      "3 5\n",
      "4 0\n",
      "4 1\n",
      "4 2\n",
      "4 3\n",
      "4 4\n",
      "4 5\n",
      "5 0\n",
      "5 1\n",
      "5 2\n",
      "5 3\n",
      "5 4\n",
      "5 5\n"
     ]
    }
   ],
   "source": [
    "for i in range(0,len(myList)):\n",
    "    for j in range(0, len(myList)):            \n",
    "        print(i,j)"
   ]
  },
  {
   "cell_type": "markdown",
   "id": "2dda84ce",
   "metadata": {},
   "source": [
    "Böyle yaptığımızda bu zaman olarak 0(n^2) ye denk geliyor. Ama yer olarak O(1) aynı dizi içerisindeyiz hafizada herhangi bir şey yapmadık o yüzden yer olarak çok verimli bir şey \n",
    "\n",
    "Time -> O(n^2)   \n",
    "Space -> O(1)\n",
    "\n",
    "Mülakatta bu çözüm kabul edilecektir ve büyük ihtimal size şunu soracaklardır peki bu daha iyi bir zaman komplesitesinde çözülebilir mi ? cevap evet \n",
    "\n",
    "En güzel yol burada dizi sıralanmamış olabilir ben bunu sıralarsam burada 2 değişken tutabiliriz birine x deriz birine y, bunlara pointer adını veririz genelde her seferinde x ve y'yi bir yana kaydırırız yani her seferinde bunların indexini bir arttırarak götürürüz ve her değişiklikte bunlar yan yana olacağı ve zaten sıralı olduğu için aynı ise değerler yan yana gelecektir işte bunu yaparak sadece 1 defa her yeri gezerken O(n)'de hafızada da yeni bir şey oluşturmadan yapabilir miyim ? bize problemde dizinin sıralı olduğunu söyleseydi o zaman gerçekten de bu şekilde yapabilirdik ama sıralı olmadığı için O(n)'de bunu yapamam önce sıralamam gerekiyor sonra bununla yaparım.\n",
    "\n",
    "Sıralama algoritmalarında en ideal zaman **O(NlogN)** demiştik bu karşımıza çok çıkar o yüzden iyi öğren !!!\n",
    "burada space de **O(1)** olacaktır\n",
    "\n",
    "\n",
    "peki zamanı daha da düşürmek istiyorum yani **O(n)**'e düşürmemiz isteninrse ? ve yerden feraget edebilirsin yani illa sabit bişey de yapmana gerek yok bunu da **O(N)'** de yapabilirsin derlerse \n",
    "Aslında bütün bunlar arasında en kolay olan bu ben listemi hashset'e çevirisem (hashset içerisinde her değerden 1 tane tutuyor sadece) "
   ]
  },
  {
   "cell_type": "code",
   "execution_count": 26,
   "id": "450bcb31",
   "metadata": {},
   "outputs": [],
   "source": [
    "myList = [1,2,3,4,5,6,7,8,2]"
   ]
  },
  {
   "cell_type": "code",
   "execution_count": 30,
   "id": "6f10ca83",
   "metadata": {},
   "outputs": [],
   "source": [
    "def solution(list):\n",
    "    hashSet = set()\n",
    "    for num in list:\n",
    "        if num in hashSet:\n",
    "            return True\n",
    "        hashSet.add(num)\n",
    "    return False"
   ]
  },
  {
   "cell_type": "code",
   "execution_count": 31,
   "id": "5604d392",
   "metadata": {},
   "outputs": [
    {
     "data": {
      "text/plain": [
       "True"
      ]
     },
     "execution_count": 31,
     "metadata": {},
     "output_type": "execute_result"
    }
   ],
   "source": [
    "solution(myList)"
   ]
  },
  {
   "cell_type": "code",
   "execution_count": 32,
   "id": "53afe709",
   "metadata": {},
   "outputs": [
    {
     "data": {
      "text/plain": [
       "False"
      ]
     },
     "execution_count": 32,
     "metadata": {},
     "output_type": "execute_result"
    }
   ],
   "source": [
    "mylist2 = [1,2,3]\n",
    "\n",
    "solution(mylist2)"
   ]
  },
  {
   "cell_type": "code",
   "execution_count": 37,
   "id": "e04dbd45",
   "metadata": {},
   "outputs": [],
   "source": [
    "def solution2():\n",
    "    return len(myList) != len(set(myList))\n",
    "\n",
    "# eleman sayısı farklı olacak o yüzden çok daha basit bir çözüm "
   ]
  },
  {
   "cell_type": "code",
   "execution_count": 35,
   "id": "6a4c28f5",
   "metadata": {},
   "outputs": [
    {
     "data": {
      "text/plain": [
       "True"
      ]
     },
     "execution_count": 35,
     "metadata": {},
     "output_type": "execute_result"
    }
   ],
   "source": [
    "solution2()"
   ]
  },
  {
   "cell_type": "markdown",
   "id": "42469ebf",
   "metadata": {},
   "source": [
    "### Single Number sorusu\n",
    "\n",
    "\n",
    "\" *Given a non-empty array of integers nums, every element appears twice except for one. Find that single one. You must implement a solution with a linear runtime complexity and use only constant extra space* \"\n",
    "\n",
    "Boş olmayan integer bir array veriliyor bu sefer eleman 2 kere değil de her eleman 2 kez var ama bir tanesi mutlaka single olacak yani elemanların bi tanesinden 1 tane olacak mutlaka hatta 1 elemanlı olabilir sonuçta bi tane elemandan mutlaka 1 tane koşulunu sağlıyor. Non-empty dediğine göre boş bir dizi vermez bize ama içerisinde tek eleman olabilir bu tazr durumlara biz **edge case** diyoruz yani sanki uçurumun kenarındaymış gibi kırk yılda bir karşımıza çıkabilecek bir durum :) \n",
    "Ve edge case'lerde genellikle karmaşık hesaplamalar yapmamıza gerek yok, bu tarz durumlarda örneğin bir edge case'miz var o da içerisinde tek bir eleman olması \n",
    "\n",
    "if len(nums) = 1:                                                                  \n",
    "    return nums[0] \n",
    "    \n",
    "gibisinden bir kod yazarak başlayacağız algoritmaya diyebiliriz bu da edge case'leri ele alma olarak geçer. Bu problem için çok önemli değil ama bu aklımızda olsun.\n",
    "Bu problemde zor olan yer verdikleri constraitler yani verdikleri limitler sebebiyle hiç de kolay değil neden çünkü hem linear runtime da yapacaksın diyor hemde constant extra space kullanacaksın diyor yani diyor ki time complexity O(N) olacak space complexity'nde O(1) olacak diyor. \n",
    "\n",
    "İlk akla gelen ile brute force yapabiliriz yani her bir elemanı alıp diğerleri ile karşılaştırabiliriz space **O(1)** ama bunun zamanı **O(N^2)** o yüzden olmaz.\n",
    "\n",
    "\n",
    "Peki sıralayıp yapabilir miyim ? yine pointer koyup tek tek bunları gezerek bulur gerçekten ama dizerken yine **O(NlogN)** olacak o yüzden olmaz yine O(nlogn) olduğu için O(N)'den daha yukarıya bir zaman oluyor lineer zaman olmuyor linear ve logaritmiğin karışımı oluyor o yüzden yine bizim işimize yaramayacak \n",
    "\n",
    "\n",
    "Burada da hashset ya da hashmap kullanarak bu sorunu çözebiliriz fakat yine tek tek buradakileri bri loopa sokarız alırız diğer bir kolaksiyona koyarken kontrol ederiz daha önce varsa onu çıkartırız hem yenisini koymayız hem eskisini çıkartırız böylece O(N) zamanda bitirmeyi başarabiliriz fakat bu sefer zamandan tasarruf ederken spacei de yine O(N)'e götürmüş oluruz.\n",
    "\n",
    "Peki hem ekstra bir yer kullanmadan hemde zamanı O(N)'de tutarak nasıl bunu yapabilirim ?\n",
    "\n",
    "Burada **BİT MANİPÜLASYONUNU** kullanıyoruz. Öncelikle 0-1 mantığını hatırlayalım örneğin;           \n",
    "504 ün ondalık gösterimi -> 5x10^2, 0x10^1, 4x10^0\n",
    "\n",
    "aynı şey binary sayı sistemi içinde geçerli !!              \n",
    "110101 binary gösterimi -> 1x2^5 + 1x2^4 + 0x2^3 + 1x2^2 + 0x2^1 + 1x2^0  = 32 + 16 + 0 + 4 + 0 + 1 = 53\n",
    "\n",
    "110101 = 53 \n",
    "\n",
    "\n",
    "Bizim sorumuzda karşımıza çıkan rakamlar decimal olarak ifade edilebilir. Mantık kapılarından hatırlayacağımız üzere XOR mantık kapısının bir özelliği vardı \"eğer kendisiyle yani 0-0 ya da 1-1 'i XOR kapısına sokarsanız 0 elde edersiniz sadece ve sadece 2 girdi birbirinden farklı ise  1 elde edersiniz \" ve diğer dikkat edilmesi gereken konu 0 hiçbir şeyi değiştirmiyor 0 ne ile XOR kapısına girerse o oluyor. İşte pythonda bunu yapabildiğimizde kolaylıkla bu sorunu çözebiliriz.\n",
    "\n",
    "Örneğin [4,1,3,1,3] şeklinde bir dizi olsun Ben bir tane değişken alırım X değişkeni olsun x'i 4 olarak atarım x=4 veya ilk başta 0 olarak da atayabilirim ve sonrasında tek tek bunlarda XOR a sokarım, 0 olarak atadığım için örneğin 3 ile XOR a soktuğumda sonuç 3 çıkacaktır sonra 3 ile 3 ü XOR yaptığımda sonuç 0 çıkacaktır, 0 ile 1 i XOR yaptığımda sonuç 1 çıkacaktır, 1 ile 1 i XOR yaptığımda sonuc 0 çıkacaktır eninde sonunda her rakam bu değişken ile XOR a tabi tutulursa bunların aynı olanları birbirini eleyecektir geriye 1 tane rakam kalacaktır farklı olan o rakamda bu örnekte 4 olacaktır. \n",
    "Yani sadece 1 defa geçtiğim için listeden O(N) de yapıyorum ve yeni bri hafıza da harcamadığım için O(1) de olur.\n",
    "\n",
    "**işte buna BİT MANİPULATİON denir ve önemlidir !!!**\n",
    "\n",
    " ptyhonda XOR işlemi **^** işareti ile yapılır"
   ]
  },
  {
   "cell_type": "code",
   "execution_count": 40,
   "id": "2e3648d1",
   "metadata": {},
   "outputs": [],
   "source": [
    "def singleNumber():\n",
    "    myList = [3,5,2,2,4,3,4]\n",
    "    \n",
    "    result = 0\n",
    "    \n",
    "    for num in myList:\n",
    "        result = num ^ result\n",
    "    return result"
   ]
  },
  {
   "cell_type": "code",
   "execution_count": 41,
   "id": "42e92021",
   "metadata": {},
   "outputs": [
    {
     "data": {
      "text/plain": [
       "5"
      ]
     },
     "execution_count": 41,
     "metadata": {},
     "output_type": "execute_result"
    }
   ],
   "source": [
    "singleNumber()"
   ]
  },
  {
   "cell_type": "markdown",
   "id": "c7c5013d",
   "metadata": {},
   "source": [
    "Burada şu şekilde düşünebilirsiniz \"ya 3 ile 5 XOR a giriyor nasıl ben anlamadım \" burada 3 ile 5 XOR a girmiyor 3 -> 11 \n",
    " 5 -> 101 olarak binary karşılıkları XOR a giriyor, ve eninde sonunda aynı birler ve aynı sıfırlar birbirini götürüyor sadece tek 1'ler kalıyor ve o birler bu örnekte 5 için nasıl diziliyorsa o bizim sonucumuz oluyor \n",
    " \n",
    " XOR işlemi (^) bit düzeyinde yapılan bir işlemdir. İki sayıyı binary (ikili) sayı sisteminde karşılaştırarak çalışır ve her bir bit çiftini şu kurallara göre işler:\n",
    "\n",
    "- Eğer iki bit aynıysa, sonuç **0** olur.\n",
    "- Eğer iki bit farklıysa, sonuç **1** olur.\n",
    "\n",
    "Yani, `a ^ b` işlemi iki sayının binary (ikili) hallerini karşılaştırır ve sonucunu oluşturur.\n",
    "\n",
    "Şimdi adım adım **5 ^ 3 = 6** işlemini inceleyelim:\n",
    "\n",
    "### 1. Sayıları Binary'ye Çevirme:\n",
    "- 5 sayısının binary (ikili) gösterimi: **0101**\n",
    "- 3 sayısının binary (ikili) gösterimi: **0011**\n",
    "\n",
    "### 2. XOR İşlemi:\n",
    "İki sayıyı bit bit karşılaştıralım:\n",
    "\n",
    "```\n",
    "   0101   (5'in binary gösterimi)\n",
    "^  0011   (3'ün binary gösterimi)\n",
    "---------\n",
    "   0110   (sonuç: 6)\n",
    "```\n",
    "\n",
    "### XOR Adım Adım İnceleme:\n",
    "- İlk bit: 0 ^ 0 = 0 (Her iki bit de aynı, sonuç 0)\n",
    "- İkinci bit: 1 ^ 0 = 1 (Farklı bitler, sonuç 1)\n",
    "- Üçüncü bit: 0 ^ 1 = 1 (Farklı bitler, sonuç 1)\n",
    "- Dördüncü bit: 1 ^ 1 = 0 (Her iki bit de aynı, sonuç 0)\n",
    "\n",
    "Sonuç: **0110** yani bu da onluk sistemde **6**'ya karşılık gelir.\n",
    "\n",
    "### 3. Sonuç:\n",
    "Bu yüzden `5 ^ 3 = 6`. XOR işlemi iki sayının ikili bitlerini karşılaştırarak sonucunu üretir.\n",
    "\n",
    "Umarım bu açıklama XOR işlemini daha iyi anlamanıza yardımcı olmuştur!"
   ]
  },
  {
   "cell_type": "markdown",
   "id": "34cee5aa",
   "metadata": {},
   "source": [
    "### MAJORITY ELEMENT sorusu\n",
    "\n",
    "*\"Given an array nums of size n ,return the majority element. The majority element is the element that appears more than [n/2] times. you may assume that the mojarity element always exists in the array\"*\n",
    "\n",
    "Burada bir dizi içerisindeki baskın eleman ne onu bulmak bize bir dizi veriliyor ve bu dizi içerisinde baskın eleman ne onu bul diyo majority elemanı da şu şekilde tanımlıyor örneğin içerisinde 10 tane eleman varsa 5'i aynı olan eleman n/2 si yani. Ve şunu diyo her zaman %50 sinden fazlası o eleman olacak olmadığı durumları if le kontrol etmene gerek yok diyo\n",
    "\n",
    "\n",
    "constraints:\n",
    "* n == nums.length\n",
    "* 1 <= n <= 5 * 10^4\n",
    "* -10^9 <= nums[i] <= 10^9\n",
    "\n",
    "constrain yani kısıtlamalar kısmında verir neler olduğu burada n nin yani eleman sayısının sonsuz olmadığını belirli bir aralıkta olduğunun ve nums elemanlarının da  belirli bir aralıkta değer alabileceğini belirtiyor. Yani integer değerinin alabilir 32 bitten daha yukarısını düşünmeye gerek yok \n",
    "\n",
    "ve mülakatçı şunu sorabilir linear time O(N) ve space O(1) yapabilir misin diye demek ki O(N) ve O(1) yapabilecek bir çözüm var !!\n",
    "\n",
    "[1,1,1,1,2,3,4] dizimiz bu şekilde ve bizden majority eleman olan 1'i bulmamız isteniyor. Bunları bir sözlüğe ya da hashmape atarım.\n",
    "Bunu sözlüğe atarsam anahtarlar integer olur, değerler de kaç tane olduğu olur. {1:4,2:1,3:1} ve her zaman buradaki rakamları takip ederim bir değişken atarım maxnumber diye bu her bir döngüde yani her bir loop da bundan daha büyük bir rakam gelmiş mi onu kontrol ederim ve en sonunda bundan daha büyük bir rakam gelmediyse bu hangi anahtara aitse onu alırım demek ki majorty buymuş diye"
   ]
  },
  {
   "cell_type": "code",
   "execution_count": 47,
   "id": "d08f4385",
   "metadata": {},
   "outputs": [],
   "source": [
    "myList = [2,3,4,1,1,1,1,1,5,3,2]"
   ]
  },
  {
   "cell_type": "code",
   "execution_count": 45,
   "id": "905261a9",
   "metadata": {},
   "outputs": [],
   "source": [
    "def findMajority():\n",
    "    numbers = {}\n",
    "    result = 0\n",
    "    maxNumber = 0\n",
    "    \n",
    "    for num in myList:\n",
    "        # numbers[num] = 1 + numbers[num]  eğer sözlükte daha önce böyle bir anahtar eklenmediyse bu hata veriyor \n",
    "        numbers[num] = 1 + numbers.get(num,0) # bu değerde bir anahtar varsa ona ekle yoksa ekle ve default değerini 1 yap\n",
    "        \n",
    "        if numbers[num] > maxNumber:\n",
    "            result = num\n",
    "        maxNumber = max(maxNumber, numbers[num])\n",
    "        \n",
    "    return result\n",
    "        "
   ]
  },
  {
   "cell_type": "code",
   "execution_count": 48,
   "id": "79b6cd36",
   "metadata": {},
   "outputs": [
    {
     "data": {
      "text/plain": [
       "1"
      ]
     },
     "execution_count": 48,
     "metadata": {},
     "output_type": "execute_result"
    }
   ],
   "source": [
    "findMajority()"
   ]
  },
  {
   "cell_type": "markdown",
   "id": "c8a6694c",
   "metadata": {},
   "source": [
    "Böyle problemleri **Bayer Moore algoritması** ile çözüyorlar bu algoritma önemli ve güzel bir algoritma göz atmakta fayda var.\n",
    "\n",
    "biraz daha zor bir dizi üzerinden gidelim :\n",
    "\n",
    "[3,4,4,3,3,3,4] bir result değişkeni ve count ile işlemlerimize başlayalım ;\n",
    "\n",
    "* ilk eleman olan 3 için -> result = 3, count = 1 (result dan kaç tane olduğunu sayıyoruz)\n",
    "\n",
    "* 4 için -> result = 3, count = 0  (eleman değiştiğinde o anki result değerinden farklı bir eleman geldiğinde count değerini 1 eksiltiyoruz eğer count = 0 ise result değerini o anki gelen değer yapıyoruz ve o değeri saymaya başlıyoruz)\n",
    "\n",
    "* 4 için -> result = 4, count = 1\n",
    "\n",
    "* 3 için -> result = 4, count = 0\n",
    "\n",
    "* 3 için -> result = 3, count = 0 olduğu için resultı değiştir ve count = 1 yap\n",
    "\n",
    "* 3 için -> result = 3, count = 2\n",
    "\n",
    "* 4 için -> result = 3, count = 1\n",
    "\n",
    "SONUÇ olarak majority değer 3 olarak karşımıza çıkıyor \n",
    "\n",
    "!! **DİKKAT bu tarz problemlerin bu çözümünde  en az %50 majority şartı olmalı**\n"
   ]
  },
  {
   "cell_type": "code",
   "execution_count": 49,
   "id": "51ceecd6",
   "metadata": {},
   "outputs": [],
   "source": [
    "def boyerMoore():\n",
    "    result = 0\n",
    "    count = 0\n",
    "    \n",
    "    for num in myList:\n",
    "        if count == 0:\n",
    "            result = num\n",
    "        if num == result:\n",
    "            count += 1\n",
    "        else:\n",
    "            count -= 1\n",
    "    return result"
   ]
  },
  {
   "cell_type": "code",
   "execution_count": 50,
   "id": "06237965",
   "metadata": {},
   "outputs": [],
   "source": [
    "def boyerMoore():\n",
    "    result = 0\n",
    "    count = 0\n",
    "    \n",
    "    for num in myList:\n",
    "        if count == 0:\n",
    "            result = num\n",
    "        count += 1 if num == result else -1\n",
    "        \n",
    "    return result"
   ]
  },
  {
   "cell_type": "code",
   "execution_count": 51,
   "id": "321f8843",
   "metadata": {},
   "outputs": [
    {
     "data": {
      "text/plain": [
       "1"
      ]
     },
     "execution_count": 51,
     "metadata": {},
     "output_type": "execute_result"
    }
   ],
   "source": [
    "boyerMoore()"
   ]
  },
  {
   "cell_type": "markdown",
   "id": "b1f48437",
   "metadata": {},
   "source": [
    "Burada bu algoritma ile yine ben majoriteyi buldum ama yeni bir hashmap yeni bir set vs oluşturmadığım için ekstradan hafıza kullanmadım yani özellikle majorite problemlerinde bu algoritma aklımızda olsun bu soru facebook da çok soruluyormuş"
   ]
  },
  {
   "cell_type": "code",
   "execution_count": null,
   "id": "ea362d5b",
   "metadata": {},
   "outputs": [],
   "source": []
  }
 ],
 "metadata": {
  "kernelspec": {
   "display_name": "Python 3 (ipykernel)",
   "language": "python",
   "name": "python3"
  },
  "language_info": {
   "codemirror_mode": {
    "name": "ipython",
    "version": 3
   },
   "file_extension": ".py",
   "mimetype": "text/x-python",
   "name": "python",
   "nbconvert_exporter": "python",
   "pygments_lexer": "ipython3",
   "version": "3.11.5"
  }
 },
 "nbformat": 4,
 "nbformat_minor": 5
}
